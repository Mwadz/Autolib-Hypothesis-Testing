{
  "nbformat": 4,
  "nbformat_minor": 0,
  "metadata": {
    "colab": {
      "name": "Autolib_hypothesis_testind_ip_week4.ipynb",
      "provenance": [],
      "toc_visible": true,
      "authorship_tag": "ABX9TyNou1/iy7EQzc6czwnyH7MH",
      "include_colab_link": true
    },
    "kernelspec": {
      "name": "python3",
      "display_name": "Python 3"
    },
    "language_info": {
      "name": "python"
    }
  },
  "cells": [
    {
      "cell_type": "markdown",
      "metadata": {
        "id": "view-in-github",
        "colab_type": "text"
      },
      "source": [
        "<a href=\"https://colab.research.google.com/github/Mwadz/Autolib-Hypothesis-Testing/blob/main/Autolib_hypothesis_testind_ip_week4.ipynb\" target=\"_parent\"><img src=\"https://colab.research.google.com/assets/colab-badge.svg\" alt=\"Open In Colab\"/></a>"
      ]
    },
    {
      "cell_type": "markdown",
      "source": [
        "# AUTOLIB CARSHARING HYPOTHESIS TEST\n",
        "* The documentation on this notebook is to be found [here](https://drive.google.com/drive/folders/1r5dImRwAk5UKeOk-yG0Jb627QscBwcP-?usp=sharing)"
      ],
      "metadata": {
        "id": "kJMCYC7d86qj"
      }
    },
    {
      "cell_type": "markdown",
      "source": [
        "# Importing Libraries"
      ],
      "metadata": {
        "id": "PHuTRfyIqQHX"
      }
    },
    {
      "cell_type": "code",
      "execution_count": 82,
      "metadata": {
        "id": "nKfKQQBggsPf"
      },
      "outputs": [],
      "source": [
        "import numpy as np\n",
        "import pandas as pd\n",
        "import matplotlib.pyplot as plt\n",
        "import seaborn as sns"
      ]
    },
    {
      "cell_type": "markdown",
      "source": [
        "# Loading the dataset"
      ],
      "metadata": {
        "id": "Av5O3kLLqkkA"
      }
    },
    {
      "cell_type": "code",
      "source": [
        "# Loading the Autolib Dataset\n",
        "autolib = pd.read_csv('/content/autolib_daily_events_postal_code.csv')\n",
        "# displaying the dataset\n",
        "autolib.head()"
      ],
      "metadata": {
        "colab": {
          "base_uri": "https://localhost:8080/",
          "height": 287
        },
        "id": "hFlvw7-Gqaii",
        "outputId": "c6e33f78-011c-4e4e-d2f8-d9f4262ca4a1"
      },
      "execution_count": 83,
      "outputs": [
        {
          "output_type": "execute_result",
          "data": {
            "text/plain": [
              "   Postal code      date  n_daily_data_points  dayOfWeek day_type  \\\n",
              "0        75001  1/1/2018                 1440          0  weekday   \n",
              "1        75001  1/2/2018                 1438          1  weekday   \n",
              "2        75001  1/3/2018                 1439          2  weekday   \n",
              "3        75001  1/4/2018                 1320          3  weekday   \n",
              "4        75001  1/5/2018                 1440          4  weekday   \n",
              "\n",
              "   BlueCars_taken_sum  BlueCars_returned_sum  Utilib_taken_sum  \\\n",
              "0                 110                    103                 3   \n",
              "1                  98                     94                 1   \n",
              "2                 138                    139                 0   \n",
              "3                 104                    104                 2   \n",
              "4                 114                    117                 3   \n",
              "\n",
              "   Utilib_returned_sum  Utilib_14_taken_sum  Utilib_14_returned_sum  \\\n",
              "0                    2                   10                       9   \n",
              "1                    1                    8                       8   \n",
              "2                    0                    2                       2   \n",
              "3                    2                    9                       8   \n",
              "4                    3                    6                       6   \n",
              "\n",
              "   Slots_freed_sum  Slots_taken_sum  \n",
              "0               22               20  \n",
              "1               23               22  \n",
              "2               27               27  \n",
              "3               25               21  \n",
              "4               18               20  "
            ],
            "text/html": [
              "\n",
              "  <div id=\"df-2359be18-ef90-4d4a-b37c-727556deff76\">\n",
              "    <div class=\"colab-df-container\">\n",
              "      <div>\n",
              "<style scoped>\n",
              "    .dataframe tbody tr th:only-of-type {\n",
              "        vertical-align: middle;\n",
              "    }\n",
              "\n",
              "    .dataframe tbody tr th {\n",
              "        vertical-align: top;\n",
              "    }\n",
              "\n",
              "    .dataframe thead th {\n",
              "        text-align: right;\n",
              "    }\n",
              "</style>\n",
              "<table border=\"1\" class=\"dataframe\">\n",
              "  <thead>\n",
              "    <tr style=\"text-align: right;\">\n",
              "      <th></th>\n",
              "      <th>Postal code</th>\n",
              "      <th>date</th>\n",
              "      <th>n_daily_data_points</th>\n",
              "      <th>dayOfWeek</th>\n",
              "      <th>day_type</th>\n",
              "      <th>BlueCars_taken_sum</th>\n",
              "      <th>BlueCars_returned_sum</th>\n",
              "      <th>Utilib_taken_sum</th>\n",
              "      <th>Utilib_returned_sum</th>\n",
              "      <th>Utilib_14_taken_sum</th>\n",
              "      <th>Utilib_14_returned_sum</th>\n",
              "      <th>Slots_freed_sum</th>\n",
              "      <th>Slots_taken_sum</th>\n",
              "    </tr>\n",
              "  </thead>\n",
              "  <tbody>\n",
              "    <tr>\n",
              "      <th>0</th>\n",
              "      <td>75001</td>\n",
              "      <td>1/1/2018</td>\n",
              "      <td>1440</td>\n",
              "      <td>0</td>\n",
              "      <td>weekday</td>\n",
              "      <td>110</td>\n",
              "      <td>103</td>\n",
              "      <td>3</td>\n",
              "      <td>2</td>\n",
              "      <td>10</td>\n",
              "      <td>9</td>\n",
              "      <td>22</td>\n",
              "      <td>20</td>\n",
              "    </tr>\n",
              "    <tr>\n",
              "      <th>1</th>\n",
              "      <td>75001</td>\n",
              "      <td>1/2/2018</td>\n",
              "      <td>1438</td>\n",
              "      <td>1</td>\n",
              "      <td>weekday</td>\n",
              "      <td>98</td>\n",
              "      <td>94</td>\n",
              "      <td>1</td>\n",
              "      <td>1</td>\n",
              "      <td>8</td>\n",
              "      <td>8</td>\n",
              "      <td>23</td>\n",
              "      <td>22</td>\n",
              "    </tr>\n",
              "    <tr>\n",
              "      <th>2</th>\n",
              "      <td>75001</td>\n",
              "      <td>1/3/2018</td>\n",
              "      <td>1439</td>\n",
              "      <td>2</td>\n",
              "      <td>weekday</td>\n",
              "      <td>138</td>\n",
              "      <td>139</td>\n",
              "      <td>0</td>\n",
              "      <td>0</td>\n",
              "      <td>2</td>\n",
              "      <td>2</td>\n",
              "      <td>27</td>\n",
              "      <td>27</td>\n",
              "    </tr>\n",
              "    <tr>\n",
              "      <th>3</th>\n",
              "      <td>75001</td>\n",
              "      <td>1/4/2018</td>\n",
              "      <td>1320</td>\n",
              "      <td>3</td>\n",
              "      <td>weekday</td>\n",
              "      <td>104</td>\n",
              "      <td>104</td>\n",
              "      <td>2</td>\n",
              "      <td>2</td>\n",
              "      <td>9</td>\n",
              "      <td>8</td>\n",
              "      <td>25</td>\n",
              "      <td>21</td>\n",
              "    </tr>\n",
              "    <tr>\n",
              "      <th>4</th>\n",
              "      <td>75001</td>\n",
              "      <td>1/5/2018</td>\n",
              "      <td>1440</td>\n",
              "      <td>4</td>\n",
              "      <td>weekday</td>\n",
              "      <td>114</td>\n",
              "      <td>117</td>\n",
              "      <td>3</td>\n",
              "      <td>3</td>\n",
              "      <td>6</td>\n",
              "      <td>6</td>\n",
              "      <td>18</td>\n",
              "      <td>20</td>\n",
              "    </tr>\n",
              "  </tbody>\n",
              "</table>\n",
              "</div>\n",
              "      <button class=\"colab-df-convert\" onclick=\"convertToInteractive('df-2359be18-ef90-4d4a-b37c-727556deff76')\"\n",
              "              title=\"Convert this dataframe to an interactive table.\"\n",
              "              style=\"display:none;\">\n",
              "        \n",
              "  <svg xmlns=\"http://www.w3.org/2000/svg\" height=\"24px\"viewBox=\"0 0 24 24\"\n",
              "       width=\"24px\">\n",
              "    <path d=\"M0 0h24v24H0V0z\" fill=\"none\"/>\n",
              "    <path d=\"M18.56 5.44l.94 2.06.94-2.06 2.06-.94-2.06-.94-.94-2.06-.94 2.06-2.06.94zm-11 1L8.5 8.5l.94-2.06 2.06-.94-2.06-.94L8.5 2.5l-.94 2.06-2.06.94zm10 10l.94 2.06.94-2.06 2.06-.94-2.06-.94-.94-2.06-.94 2.06-2.06.94z\"/><path d=\"M17.41 7.96l-1.37-1.37c-.4-.4-.92-.59-1.43-.59-.52 0-1.04.2-1.43.59L10.3 9.45l-7.72 7.72c-.78.78-.78 2.05 0 2.83L4 21.41c.39.39.9.59 1.41.59.51 0 1.02-.2 1.41-.59l7.78-7.78 2.81-2.81c.8-.78.8-2.07 0-2.86zM5.41 20L4 18.59l7.72-7.72 1.47 1.35L5.41 20z\"/>\n",
              "  </svg>\n",
              "      </button>\n",
              "      \n",
              "  <style>\n",
              "    .colab-df-container {\n",
              "      display:flex;\n",
              "      flex-wrap:wrap;\n",
              "      gap: 12px;\n",
              "    }\n",
              "\n",
              "    .colab-df-convert {\n",
              "      background-color: #E8F0FE;\n",
              "      border: none;\n",
              "      border-radius: 50%;\n",
              "      cursor: pointer;\n",
              "      display: none;\n",
              "      fill: #1967D2;\n",
              "      height: 32px;\n",
              "      padding: 0 0 0 0;\n",
              "      width: 32px;\n",
              "    }\n",
              "\n",
              "    .colab-df-convert:hover {\n",
              "      background-color: #E2EBFA;\n",
              "      box-shadow: 0px 1px 2px rgba(60, 64, 67, 0.3), 0px 1px 3px 1px rgba(60, 64, 67, 0.15);\n",
              "      fill: #174EA6;\n",
              "    }\n",
              "\n",
              "    [theme=dark] .colab-df-convert {\n",
              "      background-color: #3B4455;\n",
              "      fill: #D2E3FC;\n",
              "    }\n",
              "\n",
              "    [theme=dark] .colab-df-convert:hover {\n",
              "      background-color: #434B5C;\n",
              "      box-shadow: 0px 1px 3px 1px rgba(0, 0, 0, 0.15);\n",
              "      filter: drop-shadow(0px 1px 2px rgba(0, 0, 0, 0.3));\n",
              "      fill: #FFFFFF;\n",
              "    }\n",
              "  </style>\n",
              "\n",
              "      <script>\n",
              "        const buttonEl =\n",
              "          document.querySelector('#df-2359be18-ef90-4d4a-b37c-727556deff76 button.colab-df-convert');\n",
              "        buttonEl.style.display =\n",
              "          google.colab.kernel.accessAllowed ? 'block' : 'none';\n",
              "\n",
              "        async function convertToInteractive(key) {\n",
              "          const element = document.querySelector('#df-2359be18-ef90-4d4a-b37c-727556deff76');\n",
              "          const dataTable =\n",
              "            await google.colab.kernel.invokeFunction('convertToInteractive',\n",
              "                                                     [key], {});\n",
              "          if (!dataTable) return;\n",
              "\n",
              "          const docLinkHtml = 'Like what you see? Visit the ' +\n",
              "            '<a target=\"_blank\" href=https://colab.research.google.com/notebooks/data_table.ipynb>data table notebook</a>'\n",
              "            + ' to learn more about interactive tables.';\n",
              "          element.innerHTML = '';\n",
              "          dataTable['output_type'] = 'display_data';\n",
              "          await google.colab.output.renderOutput(dataTable, element);\n",
              "          const docLink = document.createElement('div');\n",
              "          docLink.innerHTML = docLinkHtml;\n",
              "          element.appendChild(docLink);\n",
              "        }\n",
              "      </script>\n",
              "    </div>\n",
              "  </div>\n",
              "  "
            ]
          },
          "metadata": {},
          "execution_count": 83
        }
      ]
    },
    {
      "cell_type": "code",
      "source": [
        "# Load the Description Dataset \n",
        "autolib_Desc = pd.read_excel('/content/columns_explanation.xlsx')\n",
        "autolib_Desc"
      ],
      "metadata": {
        "colab": {
          "base_uri": "https://localhost:8080/",
          "height": 457
        },
        "id": "XSJ1QPYmraJW",
        "outputId": "ee036ff6-984a-46e3-8841-56a79c8d33bc"
      },
      "execution_count": 84,
      "outputs": [
        {
          "output_type": "execute_result",
          "data": {
            "text/plain": [
              "               Column name                                        explanation\n",
              "0              Postal code                 postal code of the area (in Paris)\n",
              "1                     date                        date of the row aggregation\n",
              "2      n_daily_data_points  number of daily data poinst that were availabl...\n",
              "3                dayOfWeek     identifier of weekday (0: Monday -> 6: Sunday)\n",
              "4                 day_type                                 weekday or weekend\n",
              "5       BlueCars_taken_sum    Number of bluecars taken that date in that area\n",
              "6    BlueCars_returned_sum  Number of bluecars returned that date in that ...\n",
              "7         Utilib_taken_sum      Number of Utilib taken that date in that area\n",
              "8      Utilib_returned_sum   Number of Utilib returned that date in that area\n",
              "9      Utilib_14_taken_sum  Number of Utilib 1.4 taken that date in that area\n",
              "10  Utilib_14_returned_sum  Number of Utilib 1.4 returned that date in tha...\n",
              "11         Slots_freed_sum  Number of recharging slots released that date ...\n",
              "12         Slots_taken_sum  Number of rechargign slots taken that date in ..."
            ],
            "text/html": [
              "\n",
              "  <div id=\"df-8f3486ff-6372-488e-b87a-bb605de3436f\">\n",
              "    <div class=\"colab-df-container\">\n",
              "      <div>\n",
              "<style scoped>\n",
              "    .dataframe tbody tr th:only-of-type {\n",
              "        vertical-align: middle;\n",
              "    }\n",
              "\n",
              "    .dataframe tbody tr th {\n",
              "        vertical-align: top;\n",
              "    }\n",
              "\n",
              "    .dataframe thead th {\n",
              "        text-align: right;\n",
              "    }\n",
              "</style>\n",
              "<table border=\"1\" class=\"dataframe\">\n",
              "  <thead>\n",
              "    <tr style=\"text-align: right;\">\n",
              "      <th></th>\n",
              "      <th>Column name</th>\n",
              "      <th>explanation</th>\n",
              "    </tr>\n",
              "  </thead>\n",
              "  <tbody>\n",
              "    <tr>\n",
              "      <th>0</th>\n",
              "      <td>Postal code</td>\n",
              "      <td>postal code of the area (in Paris)</td>\n",
              "    </tr>\n",
              "    <tr>\n",
              "      <th>1</th>\n",
              "      <td>date</td>\n",
              "      <td>date of the row aggregation</td>\n",
              "    </tr>\n",
              "    <tr>\n",
              "      <th>2</th>\n",
              "      <td>n_daily_data_points</td>\n",
              "      <td>number of daily data poinst that were availabl...</td>\n",
              "    </tr>\n",
              "    <tr>\n",
              "      <th>3</th>\n",
              "      <td>dayOfWeek</td>\n",
              "      <td>identifier of weekday (0: Monday -&gt; 6: Sunday)</td>\n",
              "    </tr>\n",
              "    <tr>\n",
              "      <th>4</th>\n",
              "      <td>day_type</td>\n",
              "      <td>weekday or weekend</td>\n",
              "    </tr>\n",
              "    <tr>\n",
              "      <th>5</th>\n",
              "      <td>BlueCars_taken_sum</td>\n",
              "      <td>Number of bluecars taken that date in that area</td>\n",
              "    </tr>\n",
              "    <tr>\n",
              "      <th>6</th>\n",
              "      <td>BlueCars_returned_sum</td>\n",
              "      <td>Number of bluecars returned that date in that ...</td>\n",
              "    </tr>\n",
              "    <tr>\n",
              "      <th>7</th>\n",
              "      <td>Utilib_taken_sum</td>\n",
              "      <td>Number of Utilib taken that date in that area</td>\n",
              "    </tr>\n",
              "    <tr>\n",
              "      <th>8</th>\n",
              "      <td>Utilib_returned_sum</td>\n",
              "      <td>Number of Utilib returned that date in that area</td>\n",
              "    </tr>\n",
              "    <tr>\n",
              "      <th>9</th>\n",
              "      <td>Utilib_14_taken_sum</td>\n",
              "      <td>Number of Utilib 1.4 taken that date in that area</td>\n",
              "    </tr>\n",
              "    <tr>\n",
              "      <th>10</th>\n",
              "      <td>Utilib_14_returned_sum</td>\n",
              "      <td>Number of Utilib 1.4 returned that date in tha...</td>\n",
              "    </tr>\n",
              "    <tr>\n",
              "      <th>11</th>\n",
              "      <td>Slots_freed_sum</td>\n",
              "      <td>Number of recharging slots released that date ...</td>\n",
              "    </tr>\n",
              "    <tr>\n",
              "      <th>12</th>\n",
              "      <td>Slots_taken_sum</td>\n",
              "      <td>Number of rechargign slots taken that date in ...</td>\n",
              "    </tr>\n",
              "  </tbody>\n",
              "</table>\n",
              "</div>\n",
              "      <button class=\"colab-df-convert\" onclick=\"convertToInteractive('df-8f3486ff-6372-488e-b87a-bb605de3436f')\"\n",
              "              title=\"Convert this dataframe to an interactive table.\"\n",
              "              style=\"display:none;\">\n",
              "        \n",
              "  <svg xmlns=\"http://www.w3.org/2000/svg\" height=\"24px\"viewBox=\"0 0 24 24\"\n",
              "       width=\"24px\">\n",
              "    <path d=\"M0 0h24v24H0V0z\" fill=\"none\"/>\n",
              "    <path d=\"M18.56 5.44l.94 2.06.94-2.06 2.06-.94-2.06-.94-.94-2.06-.94 2.06-2.06.94zm-11 1L8.5 8.5l.94-2.06 2.06-.94-2.06-.94L8.5 2.5l-.94 2.06-2.06.94zm10 10l.94 2.06.94-2.06 2.06-.94-2.06-.94-.94-2.06-.94 2.06-2.06.94z\"/><path d=\"M17.41 7.96l-1.37-1.37c-.4-.4-.92-.59-1.43-.59-.52 0-1.04.2-1.43.59L10.3 9.45l-7.72 7.72c-.78.78-.78 2.05 0 2.83L4 21.41c.39.39.9.59 1.41.59.51 0 1.02-.2 1.41-.59l7.78-7.78 2.81-2.81c.8-.78.8-2.07 0-2.86zM5.41 20L4 18.59l7.72-7.72 1.47 1.35L5.41 20z\"/>\n",
              "  </svg>\n",
              "      </button>\n",
              "      \n",
              "  <style>\n",
              "    .colab-df-container {\n",
              "      display:flex;\n",
              "      flex-wrap:wrap;\n",
              "      gap: 12px;\n",
              "    }\n",
              "\n",
              "    .colab-df-convert {\n",
              "      background-color: #E8F0FE;\n",
              "      border: none;\n",
              "      border-radius: 50%;\n",
              "      cursor: pointer;\n",
              "      display: none;\n",
              "      fill: #1967D2;\n",
              "      height: 32px;\n",
              "      padding: 0 0 0 0;\n",
              "      width: 32px;\n",
              "    }\n",
              "\n",
              "    .colab-df-convert:hover {\n",
              "      background-color: #E2EBFA;\n",
              "      box-shadow: 0px 1px 2px rgba(60, 64, 67, 0.3), 0px 1px 3px 1px rgba(60, 64, 67, 0.15);\n",
              "      fill: #174EA6;\n",
              "    }\n",
              "\n",
              "    [theme=dark] .colab-df-convert {\n",
              "      background-color: #3B4455;\n",
              "      fill: #D2E3FC;\n",
              "    }\n",
              "\n",
              "    [theme=dark] .colab-df-convert:hover {\n",
              "      background-color: #434B5C;\n",
              "      box-shadow: 0px 1px 3px 1px rgba(0, 0, 0, 0.15);\n",
              "      filter: drop-shadow(0px 1px 2px rgba(0, 0, 0, 0.3));\n",
              "      fill: #FFFFFF;\n",
              "    }\n",
              "  </style>\n",
              "\n",
              "      <script>\n",
              "        const buttonEl =\n",
              "          document.querySelector('#df-8f3486ff-6372-488e-b87a-bb605de3436f button.colab-df-convert');\n",
              "        buttonEl.style.display =\n",
              "          google.colab.kernel.accessAllowed ? 'block' : 'none';\n",
              "\n",
              "        async function convertToInteractive(key) {\n",
              "          const element = document.querySelector('#df-8f3486ff-6372-488e-b87a-bb605de3436f');\n",
              "          const dataTable =\n",
              "            await google.colab.kernel.invokeFunction('convertToInteractive',\n",
              "                                                     [key], {});\n",
              "          if (!dataTable) return;\n",
              "\n",
              "          const docLinkHtml = 'Like what you see? Visit the ' +\n",
              "            '<a target=\"_blank\" href=https://colab.research.google.com/notebooks/data_table.ipynb>data table notebook</a>'\n",
              "            + ' to learn more about interactive tables.';\n",
              "          element.innerHTML = '';\n",
              "          dataTable['output_type'] = 'display_data';\n",
              "          await google.colab.output.renderOutput(dataTable, element);\n",
              "          const docLink = document.createElement('div');\n",
              "          docLink.innerHTML = docLinkHtml;\n",
              "          element.appendChild(docLink);\n",
              "        }\n",
              "      </script>\n",
              "    </div>\n",
              "  </div>\n",
              "  "
            ]
          },
          "metadata": {},
          "execution_count": 84
        }
      ]
    },
    {
      "cell_type": "markdown",
      "source": [
        "# Data Overview"
      ],
      "metadata": {
        "id": "C8xM2DWtsONL"
      }
    },
    {
      "cell_type": "code",
      "source": [
        "autolib.columns"
      ],
      "metadata": {
        "colab": {
          "base_uri": "https://localhost:8080/"
        },
        "id": "nf8U9RTgsxfC",
        "outputId": "66ee51cf-6d67-4600-c3d7-923d25c69dcf"
      },
      "execution_count": 85,
      "outputs": [
        {
          "output_type": "execute_result",
          "data": {
            "text/plain": [
              "Index(['Postal code', 'date', 'n_daily_data_points', 'dayOfWeek', 'day_type',\n",
              "       'BlueCars_taken_sum', 'BlueCars_returned_sum', 'Utilib_taken_sum',\n",
              "       'Utilib_returned_sum', 'Utilib_14_taken_sum', 'Utilib_14_returned_sum',\n",
              "       'Slots_freed_sum', 'Slots_taken_sum'],\n",
              "      dtype='object')"
            ]
          },
          "metadata": {},
          "execution_count": 85
        }
      ]
    },
    {
      "cell_type": "markdown",
      "source": [
        "the columns exept 'Postal code' seem to be named correctly but we'll have to make all the column names lowercase and remove spaces.\n"
      ],
      "metadata": {
        "id": "91q9PFTgtR1v"
      }
    },
    {
      "cell_type": "code",
      "source": [
        "autolib.shape"
      ],
      "metadata": {
        "colab": {
          "base_uri": "https://localhost:8080/"
        },
        "id": "SxwLrfc1sNI0",
        "outputId": "ad7d2048-9bb5-42e6-b75f-af9a94725cd1"
      },
      "execution_count": 86,
      "outputs": [
        {
          "output_type": "execute_result",
          "data": {
            "text/plain": [
              "(16085, 13)"
            ]
          },
          "metadata": {},
          "execution_count": 86
        }
      ]
    },
    {
      "cell_type": "markdown",
      "source": [
        "the data has 16,085 rows and 13 columns"
      ],
      "metadata": {
        "id": "xVkkajEetW39"
      }
    },
    {
      "cell_type": "code",
      "source": [
        "autolib.info()"
      ],
      "metadata": {
        "colab": {
          "base_uri": "https://localhost:8080/"
        },
        "id": "qFpowIKAsJYW",
        "outputId": "f5523121-f1c3-4094-b591-39726265b07a"
      },
      "execution_count": 87,
      "outputs": [
        {
          "output_type": "stream",
          "name": "stdout",
          "text": [
            "<class 'pandas.core.frame.DataFrame'>\n",
            "RangeIndex: 16085 entries, 0 to 16084\n",
            "Data columns (total 13 columns):\n",
            " #   Column                  Non-Null Count  Dtype \n",
            "---  ------                  --------------  ----- \n",
            " 0   Postal code             16085 non-null  int64 \n",
            " 1   date                    16085 non-null  object\n",
            " 2   n_daily_data_points     16085 non-null  int64 \n",
            " 3   dayOfWeek               16085 non-null  int64 \n",
            " 4   day_type                16085 non-null  object\n",
            " 5   BlueCars_taken_sum      16085 non-null  int64 \n",
            " 6   BlueCars_returned_sum   16085 non-null  int64 \n",
            " 7   Utilib_taken_sum        16085 non-null  int64 \n",
            " 8   Utilib_returned_sum     16085 non-null  int64 \n",
            " 9   Utilib_14_taken_sum     16085 non-null  int64 \n",
            " 10  Utilib_14_returned_sum  16085 non-null  int64 \n",
            " 11  Slots_freed_sum         16085 non-null  int64 \n",
            " 12  Slots_taken_sum         16085 non-null  int64 \n",
            "dtypes: int64(11), object(2)\n",
            "memory usage: 1.6+ MB\n"
          ]
        }
      ]
    },
    {
      "cell_type": "markdown",
      "source": [
        "the date column has to be changed to datetime datatype. There seems to be no missing values in the dataset."
      ],
      "metadata": {
        "id": "32ZljOqRteSs"
      }
    },
    {
      "cell_type": "markdown",
      "source": [
        "# Data Cleaning"
      ],
      "metadata": {
        "id": "tBeXJ4S9uBqq"
      }
    },
    {
      "cell_type": "code",
      "source": [
        "# Checking for missing values\n",
        "null = autolib.isnull().sum().sort_values(ascending = False)\n",
        "null"
      ],
      "metadata": {
        "colab": {
          "base_uri": "https://localhost:8080/"
        },
        "id": "RJLj9YjjuFng",
        "outputId": "c9ce5c59-0e58-42ac-f588-fc24c382d131"
      },
      "execution_count": 88,
      "outputs": [
        {
          "output_type": "execute_result",
          "data": {
            "text/plain": [
              "Postal code               0\n",
              "date                      0\n",
              "n_daily_data_points       0\n",
              "dayOfWeek                 0\n",
              "day_type                  0\n",
              "BlueCars_taken_sum        0\n",
              "BlueCars_returned_sum     0\n",
              "Utilib_taken_sum          0\n",
              "Utilib_returned_sum       0\n",
              "Utilib_14_taken_sum       0\n",
              "Utilib_14_returned_sum    0\n",
              "Slots_freed_sum           0\n",
              "Slots_taken_sum           0\n",
              "dtype: int64"
            ]
          },
          "metadata": {},
          "execution_count": 88
        }
      ]
    },
    {
      "cell_type": "markdown",
      "source": [
        "Indeed there are no missing values"
      ],
      "metadata": {
        "id": "_p8jzg6Nu9b7"
      }
    },
    {
      "cell_type": "code",
      "source": [
        "# changing the date column data type from object to date\n",
        "autolib['date'] =pd.to_datetime(autolib['date'] ) \n",
        "# confirming the change\n",
        "autolib.dtypes"
      ],
      "metadata": {
        "colab": {
          "base_uri": "https://localhost:8080/"
        },
        "id": "dL7NAD0_vA-h",
        "outputId": "e7b07ceb-2f29-4679-a21c-1c84ade396e6"
      },
      "execution_count": 89,
      "outputs": [
        {
          "output_type": "execute_result",
          "data": {
            "text/plain": [
              "Postal code                        int64\n",
              "date                      datetime64[ns]\n",
              "n_daily_data_points                int64\n",
              "dayOfWeek                          int64\n",
              "day_type                          object\n",
              "BlueCars_taken_sum                 int64\n",
              "BlueCars_returned_sum              int64\n",
              "Utilib_taken_sum                   int64\n",
              "Utilib_returned_sum                int64\n",
              "Utilib_14_taken_sum                int64\n",
              "Utilib_14_returned_sum             int64\n",
              "Slots_freed_sum                    int64\n",
              "Slots_taken_sum                    int64\n",
              "dtype: object"
            ]
          },
          "metadata": {},
          "execution_count": 89
        }
      ]
    },
    {
      "cell_type": "code",
      "source": [
        "# changing the column names\n",
        "autolib.columns = autolib.columns.str.lower().str.strip().str.replace(' ', '_').str.replace('.', '')\n",
        "autolib.columns"
      ],
      "metadata": {
        "colab": {
          "base_uri": "https://localhost:8080/"
        },
        "id": "3u_QIMDVwGZG",
        "outputId": "c80db9c4-7836-49bb-b04e-ab7ef7e61a5e"
      },
      "execution_count": 90,
      "outputs": [
        {
          "output_type": "execute_result",
          "data": {
            "text/plain": [
              "Index(['postal_code', 'date', 'n_daily_data_points', 'dayofweek', 'day_type',\n",
              "       'bluecars_taken_sum', 'bluecars_returned_sum', 'utilib_taken_sum',\n",
              "       'utilib_returned_sum', 'utilib_14_taken_sum', 'utilib_14_returned_sum',\n",
              "       'slots_freed_sum', 'slots_taken_sum'],\n",
              "      dtype='object')"
            ]
          },
          "metadata": {},
          "execution_count": 90
        }
      ]
    },
    {
      "cell_type": "code",
      "source": [
        "# finding out the values in the day_type column\n",
        "autolib['day_type'].unique()"
      ],
      "metadata": {
        "colab": {
          "base_uri": "https://localhost:8080/"
        },
        "id": "pWIjxK6Y3edy",
        "outputId": "a213790c-e57d-45b8-c07a-3177f9e56ca1"
      },
      "execution_count": 91,
      "outputs": [
        {
          "output_type": "execute_result",
          "data": {
            "text/plain": [
              "array(['weekday', 'weekend'], dtype=object)"
            ]
          },
          "metadata": {},
          "execution_count": 91
        }
      ]
    },
    {
      "cell_type": "code",
      "source": [
        "# Filtering weekday records out cause we dont need them\n",
        "new_auto = autolib.loc[autolib['day_type'] == 'weekend']\n",
        "new_auto.head()"
      ],
      "metadata": {
        "colab": {
          "base_uri": "https://localhost:8080/",
          "height": 357
        },
        "id": "Bw8P6-ek26XL",
        "outputId": "dc4ec036-cfc3-4b48-9523-8e4a80825521"
      },
      "execution_count": 92,
      "outputs": [
        {
          "output_type": "execute_result",
          "data": {
            "text/plain": [
              "    postal_code       date  n_daily_data_points  dayofweek day_type  \\\n",
              "5         75001 2018-01-06                 1437          5  weekend   \n",
              "6         75001 2018-01-07                 1440          6  weekend   \n",
              "12        75001 2018-01-13                 1440          5  weekend   \n",
              "13        75001 2018-01-14                 1440          6  weekend   \n",
              "19        75001 2018-01-20                 1439          5  weekend   \n",
              "\n",
              "    bluecars_taken_sum  bluecars_returned_sum  utilib_taken_sum  \\\n",
              "5                  187                    185                 6   \n",
              "6                  180                    180                 2   \n",
              "12                 224                    223                 2   \n",
              "13                 193                    193                 2   \n",
              "19                 217                    217                 2   \n",
              "\n",
              "    utilib_returned_sum  utilib_14_taken_sum  utilib_14_returned_sum  \\\n",
              "5                     6                    7                       8   \n",
              "6                     2                   10                       9   \n",
              "12                    2                   15                      15   \n",
              "13                    2                   12                      12   \n",
              "19                    2                   25                      25   \n",
              "\n",
              "    slots_freed_sum  slots_taken_sum  \n",
              "5                38               35  \n",
              "6                34               34  \n",
              "12               38               38  \n",
              "13               22               20  \n",
              "19               41               39  "
            ],
            "text/html": [
              "\n",
              "  <div id=\"df-58c62912-c962-4836-9672-e2a003c98894\">\n",
              "    <div class=\"colab-df-container\">\n",
              "      <div>\n",
              "<style scoped>\n",
              "    .dataframe tbody tr th:only-of-type {\n",
              "        vertical-align: middle;\n",
              "    }\n",
              "\n",
              "    .dataframe tbody tr th {\n",
              "        vertical-align: top;\n",
              "    }\n",
              "\n",
              "    .dataframe thead th {\n",
              "        text-align: right;\n",
              "    }\n",
              "</style>\n",
              "<table border=\"1\" class=\"dataframe\">\n",
              "  <thead>\n",
              "    <tr style=\"text-align: right;\">\n",
              "      <th></th>\n",
              "      <th>postal_code</th>\n",
              "      <th>date</th>\n",
              "      <th>n_daily_data_points</th>\n",
              "      <th>dayofweek</th>\n",
              "      <th>day_type</th>\n",
              "      <th>bluecars_taken_sum</th>\n",
              "      <th>bluecars_returned_sum</th>\n",
              "      <th>utilib_taken_sum</th>\n",
              "      <th>utilib_returned_sum</th>\n",
              "      <th>utilib_14_taken_sum</th>\n",
              "      <th>utilib_14_returned_sum</th>\n",
              "      <th>slots_freed_sum</th>\n",
              "      <th>slots_taken_sum</th>\n",
              "    </tr>\n",
              "  </thead>\n",
              "  <tbody>\n",
              "    <tr>\n",
              "      <th>5</th>\n",
              "      <td>75001</td>\n",
              "      <td>2018-01-06</td>\n",
              "      <td>1437</td>\n",
              "      <td>5</td>\n",
              "      <td>weekend</td>\n",
              "      <td>187</td>\n",
              "      <td>185</td>\n",
              "      <td>6</td>\n",
              "      <td>6</td>\n",
              "      <td>7</td>\n",
              "      <td>8</td>\n",
              "      <td>38</td>\n",
              "      <td>35</td>\n",
              "    </tr>\n",
              "    <tr>\n",
              "      <th>6</th>\n",
              "      <td>75001</td>\n",
              "      <td>2018-01-07</td>\n",
              "      <td>1440</td>\n",
              "      <td>6</td>\n",
              "      <td>weekend</td>\n",
              "      <td>180</td>\n",
              "      <td>180</td>\n",
              "      <td>2</td>\n",
              "      <td>2</td>\n",
              "      <td>10</td>\n",
              "      <td>9</td>\n",
              "      <td>34</td>\n",
              "      <td>34</td>\n",
              "    </tr>\n",
              "    <tr>\n",
              "      <th>12</th>\n",
              "      <td>75001</td>\n",
              "      <td>2018-01-13</td>\n",
              "      <td>1440</td>\n",
              "      <td>5</td>\n",
              "      <td>weekend</td>\n",
              "      <td>224</td>\n",
              "      <td>223</td>\n",
              "      <td>2</td>\n",
              "      <td>2</td>\n",
              "      <td>15</td>\n",
              "      <td>15</td>\n",
              "      <td>38</td>\n",
              "      <td>38</td>\n",
              "    </tr>\n",
              "    <tr>\n",
              "      <th>13</th>\n",
              "      <td>75001</td>\n",
              "      <td>2018-01-14</td>\n",
              "      <td>1440</td>\n",
              "      <td>6</td>\n",
              "      <td>weekend</td>\n",
              "      <td>193</td>\n",
              "      <td>193</td>\n",
              "      <td>2</td>\n",
              "      <td>2</td>\n",
              "      <td>12</td>\n",
              "      <td>12</td>\n",
              "      <td>22</td>\n",
              "      <td>20</td>\n",
              "    </tr>\n",
              "    <tr>\n",
              "      <th>19</th>\n",
              "      <td>75001</td>\n",
              "      <td>2018-01-20</td>\n",
              "      <td>1439</td>\n",
              "      <td>5</td>\n",
              "      <td>weekend</td>\n",
              "      <td>217</td>\n",
              "      <td>217</td>\n",
              "      <td>2</td>\n",
              "      <td>2</td>\n",
              "      <td>25</td>\n",
              "      <td>25</td>\n",
              "      <td>41</td>\n",
              "      <td>39</td>\n",
              "    </tr>\n",
              "  </tbody>\n",
              "</table>\n",
              "</div>\n",
              "      <button class=\"colab-df-convert\" onclick=\"convertToInteractive('df-58c62912-c962-4836-9672-e2a003c98894')\"\n",
              "              title=\"Convert this dataframe to an interactive table.\"\n",
              "              style=\"display:none;\">\n",
              "        \n",
              "  <svg xmlns=\"http://www.w3.org/2000/svg\" height=\"24px\"viewBox=\"0 0 24 24\"\n",
              "       width=\"24px\">\n",
              "    <path d=\"M0 0h24v24H0V0z\" fill=\"none\"/>\n",
              "    <path d=\"M18.56 5.44l.94 2.06.94-2.06 2.06-.94-2.06-.94-.94-2.06-.94 2.06-2.06.94zm-11 1L8.5 8.5l.94-2.06 2.06-.94-2.06-.94L8.5 2.5l-.94 2.06-2.06.94zm10 10l.94 2.06.94-2.06 2.06-.94-2.06-.94-.94-2.06-.94 2.06-2.06.94z\"/><path d=\"M17.41 7.96l-1.37-1.37c-.4-.4-.92-.59-1.43-.59-.52 0-1.04.2-1.43.59L10.3 9.45l-7.72 7.72c-.78.78-.78 2.05 0 2.83L4 21.41c.39.39.9.59 1.41.59.51 0 1.02-.2 1.41-.59l7.78-7.78 2.81-2.81c.8-.78.8-2.07 0-2.86zM5.41 20L4 18.59l7.72-7.72 1.47 1.35L5.41 20z\"/>\n",
              "  </svg>\n",
              "      </button>\n",
              "      \n",
              "  <style>\n",
              "    .colab-df-container {\n",
              "      display:flex;\n",
              "      flex-wrap:wrap;\n",
              "      gap: 12px;\n",
              "    }\n",
              "\n",
              "    .colab-df-convert {\n",
              "      background-color: #E8F0FE;\n",
              "      border: none;\n",
              "      border-radius: 50%;\n",
              "      cursor: pointer;\n",
              "      display: none;\n",
              "      fill: #1967D2;\n",
              "      height: 32px;\n",
              "      padding: 0 0 0 0;\n",
              "      width: 32px;\n",
              "    }\n",
              "\n",
              "    .colab-df-convert:hover {\n",
              "      background-color: #E2EBFA;\n",
              "      box-shadow: 0px 1px 2px rgba(60, 64, 67, 0.3), 0px 1px 3px 1px rgba(60, 64, 67, 0.15);\n",
              "      fill: #174EA6;\n",
              "    }\n",
              "\n",
              "    [theme=dark] .colab-df-convert {\n",
              "      background-color: #3B4455;\n",
              "      fill: #D2E3FC;\n",
              "    }\n",
              "\n",
              "    [theme=dark] .colab-df-convert:hover {\n",
              "      background-color: #434B5C;\n",
              "      box-shadow: 0px 1px 3px 1px rgba(0, 0, 0, 0.15);\n",
              "      filter: drop-shadow(0px 1px 2px rgba(0, 0, 0, 0.3));\n",
              "      fill: #FFFFFF;\n",
              "    }\n",
              "  </style>\n",
              "\n",
              "      <script>\n",
              "        const buttonEl =\n",
              "          document.querySelector('#df-58c62912-c962-4836-9672-e2a003c98894 button.colab-df-convert');\n",
              "        buttonEl.style.display =\n",
              "          google.colab.kernel.accessAllowed ? 'block' : 'none';\n",
              "\n",
              "        async function convertToInteractive(key) {\n",
              "          const element = document.querySelector('#df-58c62912-c962-4836-9672-e2a003c98894');\n",
              "          const dataTable =\n",
              "            await google.colab.kernel.invokeFunction('convertToInteractive',\n",
              "                                                     [key], {});\n",
              "          if (!dataTable) return;\n",
              "\n",
              "          const docLinkHtml = 'Like what you see? Visit the ' +\n",
              "            '<a target=\"_blank\" href=https://colab.research.google.com/notebooks/data_table.ipynb>data table notebook</a>'\n",
              "            + ' to learn more about interactive tables.';\n",
              "          element.innerHTML = '';\n",
              "          dataTable['output_type'] = 'display_data';\n",
              "          await google.colab.output.renderOutput(dataTable, element);\n",
              "          const docLink = document.createElement('div');\n",
              "          docLink.innerHTML = docLinkHtml;\n",
              "          element.appendChild(docLink);\n",
              "        }\n",
              "      </script>\n",
              "    </div>\n",
              "  </div>\n",
              "  "
            ]
          },
          "metadata": {},
          "execution_count": 92
        }
      ]
    },
    {
      "cell_type": "code",
      "source": [
        "# dropping the columns we don't need\n",
        "new_auto.drop((['n_daily_data_points']), axis = 'columns', inplace=True)"
      ],
      "metadata": {
        "id": "LmEj3dSX8nbH"
      },
      "execution_count": 93,
      "outputs": []
    },
    {
      "cell_type": "code",
      "source": [
        "# finding out the descriptive stats of the new weekend dataset\n",
        "new_auto.describe()\n"
      ],
      "metadata": {
        "colab": {
          "base_uri": "https://localhost:8080/",
          "height": 364
        },
        "id": "FwEbv1HN8UeJ",
        "outputId": "dda17257-38a4-4c52-e9e1-58d6857d0df6"
      },
      "execution_count": 94,
      "outputs": [
        {
          "output_type": "execute_result",
          "data": {
            "text/plain": [
              "        postal_code    dayofweek  bluecars_taken_sum  bluecars_returned_sum  \\\n",
              "count   4541.000000  4541.000000         4541.000000            4541.000000   \n",
              "mean   88794.686633     5.500771          151.090068             152.029289   \n",
              "std     7646.521844     0.500054          218.565642             221.140337   \n",
              "min    75001.000000     5.000000            0.000000               0.000000   \n",
              "25%    91330.000000     5.000000           25.000000              24.000000   \n",
              "50%    92340.000000     6.000000           59.000000              58.000000   \n",
              "75%    93400.000000     6.000000          156.000000             157.000000   \n",
              "max    95880.000000     6.000000         1352.000000            1332.000000   \n",
              "\n",
              "       utilib_taken_sum  utilib_returned_sum  utilib_14_taken_sum  \\\n",
              "count       4541.000000          4541.000000          4541.000000   \n",
              "mean           4.393085             4.414666            10.129707   \n",
              "std            6.747905             6.834645            14.821601   \n",
              "min            0.000000             0.000000             0.000000   \n",
              "25%            0.000000             0.000000             1.000000   \n",
              "50%            2.000000             2.000000             4.000000   \n",
              "75%            5.000000             5.000000            11.000000   \n",
              "max           54.000000            58.000000           100.000000   \n",
              "\n",
              "       utilib_14_returned_sum  slots_freed_sum  slots_taken_sum  \n",
              "count             4541.000000      4541.000000      4541.000000  \n",
              "mean                10.184761        26.909712        26.970932  \n",
              "std                 14.973810        61.357605        61.531368  \n",
              "min                  0.000000         0.000000         0.000000  \n",
              "25%                  1.000000         0.000000         0.000000  \n",
              "50%                  4.000000         0.000000         0.000000  \n",
              "75%                 12.000000         6.000000         6.000000  \n",
              "max                101.000000       360.000000       359.000000  "
            ],
            "text/html": [
              "\n",
              "  <div id=\"df-827444d3-34d8-4d1d-a757-baf028531c9e\">\n",
              "    <div class=\"colab-df-container\">\n",
              "      <div>\n",
              "<style scoped>\n",
              "    .dataframe tbody tr th:only-of-type {\n",
              "        vertical-align: middle;\n",
              "    }\n",
              "\n",
              "    .dataframe tbody tr th {\n",
              "        vertical-align: top;\n",
              "    }\n",
              "\n",
              "    .dataframe thead th {\n",
              "        text-align: right;\n",
              "    }\n",
              "</style>\n",
              "<table border=\"1\" class=\"dataframe\">\n",
              "  <thead>\n",
              "    <tr style=\"text-align: right;\">\n",
              "      <th></th>\n",
              "      <th>postal_code</th>\n",
              "      <th>dayofweek</th>\n",
              "      <th>bluecars_taken_sum</th>\n",
              "      <th>bluecars_returned_sum</th>\n",
              "      <th>utilib_taken_sum</th>\n",
              "      <th>utilib_returned_sum</th>\n",
              "      <th>utilib_14_taken_sum</th>\n",
              "      <th>utilib_14_returned_sum</th>\n",
              "      <th>slots_freed_sum</th>\n",
              "      <th>slots_taken_sum</th>\n",
              "    </tr>\n",
              "  </thead>\n",
              "  <tbody>\n",
              "    <tr>\n",
              "      <th>count</th>\n",
              "      <td>4541.000000</td>\n",
              "      <td>4541.000000</td>\n",
              "      <td>4541.000000</td>\n",
              "      <td>4541.000000</td>\n",
              "      <td>4541.000000</td>\n",
              "      <td>4541.000000</td>\n",
              "      <td>4541.000000</td>\n",
              "      <td>4541.000000</td>\n",
              "      <td>4541.000000</td>\n",
              "      <td>4541.000000</td>\n",
              "    </tr>\n",
              "    <tr>\n",
              "      <th>mean</th>\n",
              "      <td>88794.686633</td>\n",
              "      <td>5.500771</td>\n",
              "      <td>151.090068</td>\n",
              "      <td>152.029289</td>\n",
              "      <td>4.393085</td>\n",
              "      <td>4.414666</td>\n",
              "      <td>10.129707</td>\n",
              "      <td>10.184761</td>\n",
              "      <td>26.909712</td>\n",
              "      <td>26.970932</td>\n",
              "    </tr>\n",
              "    <tr>\n",
              "      <th>std</th>\n",
              "      <td>7646.521844</td>\n",
              "      <td>0.500054</td>\n",
              "      <td>218.565642</td>\n",
              "      <td>221.140337</td>\n",
              "      <td>6.747905</td>\n",
              "      <td>6.834645</td>\n",
              "      <td>14.821601</td>\n",
              "      <td>14.973810</td>\n",
              "      <td>61.357605</td>\n",
              "      <td>61.531368</td>\n",
              "    </tr>\n",
              "    <tr>\n",
              "      <th>min</th>\n",
              "      <td>75001.000000</td>\n",
              "      <td>5.000000</td>\n",
              "      <td>0.000000</td>\n",
              "      <td>0.000000</td>\n",
              "      <td>0.000000</td>\n",
              "      <td>0.000000</td>\n",
              "      <td>0.000000</td>\n",
              "      <td>0.000000</td>\n",
              "      <td>0.000000</td>\n",
              "      <td>0.000000</td>\n",
              "    </tr>\n",
              "    <tr>\n",
              "      <th>25%</th>\n",
              "      <td>91330.000000</td>\n",
              "      <td>5.000000</td>\n",
              "      <td>25.000000</td>\n",
              "      <td>24.000000</td>\n",
              "      <td>0.000000</td>\n",
              "      <td>0.000000</td>\n",
              "      <td>1.000000</td>\n",
              "      <td>1.000000</td>\n",
              "      <td>0.000000</td>\n",
              "      <td>0.000000</td>\n",
              "    </tr>\n",
              "    <tr>\n",
              "      <th>50%</th>\n",
              "      <td>92340.000000</td>\n",
              "      <td>6.000000</td>\n",
              "      <td>59.000000</td>\n",
              "      <td>58.000000</td>\n",
              "      <td>2.000000</td>\n",
              "      <td>2.000000</td>\n",
              "      <td>4.000000</td>\n",
              "      <td>4.000000</td>\n",
              "      <td>0.000000</td>\n",
              "      <td>0.000000</td>\n",
              "    </tr>\n",
              "    <tr>\n",
              "      <th>75%</th>\n",
              "      <td>93400.000000</td>\n",
              "      <td>6.000000</td>\n",
              "      <td>156.000000</td>\n",
              "      <td>157.000000</td>\n",
              "      <td>5.000000</td>\n",
              "      <td>5.000000</td>\n",
              "      <td>11.000000</td>\n",
              "      <td>12.000000</td>\n",
              "      <td>6.000000</td>\n",
              "      <td>6.000000</td>\n",
              "    </tr>\n",
              "    <tr>\n",
              "      <th>max</th>\n",
              "      <td>95880.000000</td>\n",
              "      <td>6.000000</td>\n",
              "      <td>1352.000000</td>\n",
              "      <td>1332.000000</td>\n",
              "      <td>54.000000</td>\n",
              "      <td>58.000000</td>\n",
              "      <td>100.000000</td>\n",
              "      <td>101.000000</td>\n",
              "      <td>360.000000</td>\n",
              "      <td>359.000000</td>\n",
              "    </tr>\n",
              "  </tbody>\n",
              "</table>\n",
              "</div>\n",
              "      <button class=\"colab-df-convert\" onclick=\"convertToInteractive('df-827444d3-34d8-4d1d-a757-baf028531c9e')\"\n",
              "              title=\"Convert this dataframe to an interactive table.\"\n",
              "              style=\"display:none;\">\n",
              "        \n",
              "  <svg xmlns=\"http://www.w3.org/2000/svg\" height=\"24px\"viewBox=\"0 0 24 24\"\n",
              "       width=\"24px\">\n",
              "    <path d=\"M0 0h24v24H0V0z\" fill=\"none\"/>\n",
              "    <path d=\"M18.56 5.44l.94 2.06.94-2.06 2.06-.94-2.06-.94-.94-2.06-.94 2.06-2.06.94zm-11 1L8.5 8.5l.94-2.06 2.06-.94-2.06-.94L8.5 2.5l-.94 2.06-2.06.94zm10 10l.94 2.06.94-2.06 2.06-.94-2.06-.94-.94-2.06-.94 2.06-2.06.94z\"/><path d=\"M17.41 7.96l-1.37-1.37c-.4-.4-.92-.59-1.43-.59-.52 0-1.04.2-1.43.59L10.3 9.45l-7.72 7.72c-.78.78-.78 2.05 0 2.83L4 21.41c.39.39.9.59 1.41.59.51 0 1.02-.2 1.41-.59l7.78-7.78 2.81-2.81c.8-.78.8-2.07 0-2.86zM5.41 20L4 18.59l7.72-7.72 1.47 1.35L5.41 20z\"/>\n",
              "  </svg>\n",
              "      </button>\n",
              "      \n",
              "  <style>\n",
              "    .colab-df-container {\n",
              "      display:flex;\n",
              "      flex-wrap:wrap;\n",
              "      gap: 12px;\n",
              "    }\n",
              "\n",
              "    .colab-df-convert {\n",
              "      background-color: #E8F0FE;\n",
              "      border: none;\n",
              "      border-radius: 50%;\n",
              "      cursor: pointer;\n",
              "      display: none;\n",
              "      fill: #1967D2;\n",
              "      height: 32px;\n",
              "      padding: 0 0 0 0;\n",
              "      width: 32px;\n",
              "    }\n",
              "\n",
              "    .colab-df-convert:hover {\n",
              "      background-color: #E2EBFA;\n",
              "      box-shadow: 0px 1px 2px rgba(60, 64, 67, 0.3), 0px 1px 3px 1px rgba(60, 64, 67, 0.15);\n",
              "      fill: #174EA6;\n",
              "    }\n",
              "\n",
              "    [theme=dark] .colab-df-convert {\n",
              "      background-color: #3B4455;\n",
              "      fill: #D2E3FC;\n",
              "    }\n",
              "\n",
              "    [theme=dark] .colab-df-convert:hover {\n",
              "      background-color: #434B5C;\n",
              "      box-shadow: 0px 1px 3px 1px rgba(0, 0, 0, 0.15);\n",
              "      filter: drop-shadow(0px 1px 2px rgba(0, 0, 0, 0.3));\n",
              "      fill: #FFFFFF;\n",
              "    }\n",
              "  </style>\n",
              "\n",
              "      <script>\n",
              "        const buttonEl =\n",
              "          document.querySelector('#df-827444d3-34d8-4d1d-a757-baf028531c9e button.colab-df-convert');\n",
              "        buttonEl.style.display =\n",
              "          google.colab.kernel.accessAllowed ? 'block' : 'none';\n",
              "\n",
              "        async function convertToInteractive(key) {\n",
              "          const element = document.querySelector('#df-827444d3-34d8-4d1d-a757-baf028531c9e');\n",
              "          const dataTable =\n",
              "            await google.colab.kernel.invokeFunction('convertToInteractive',\n",
              "                                                     [key], {});\n",
              "          if (!dataTable) return;\n",
              "\n",
              "          const docLinkHtml = 'Like what you see? Visit the ' +\n",
              "            '<a target=\"_blank\" href=https://colab.research.google.com/notebooks/data_table.ipynb>data table notebook</a>'\n",
              "            + ' to learn more about interactive tables.';\n",
              "          element.innerHTML = '';\n",
              "          dataTable['output_type'] = 'display_data';\n",
              "          await google.colab.output.renderOutput(dataTable, element);\n",
              "          const docLink = document.createElement('div');\n",
              "          docLink.innerHTML = docLinkHtml;\n",
              "          element.appendChild(docLink);\n",
              "        }\n",
              "      </script>\n",
              "    </div>\n",
              "  </div>\n",
              "  "
            ]
          },
          "metadata": {},
          "execution_count": 94
        }
      ]
    },
    {
      "cell_type": "code",
      "source": [
        "new_auto['bluecars_taken_sum'].describe()"
      ],
      "metadata": {
        "colab": {
          "base_uri": "https://localhost:8080/"
        },
        "id": "A-ebqtcDt6ht",
        "outputId": "4acbb294-b373-4a6a-f9ee-09e7f7264efd"
      },
      "execution_count": 147,
      "outputs": [
        {
          "output_type": "execute_result",
          "data": {
            "text/plain": [
              "count    3715.000000\n",
              "mean      182.494213\n",
              "std       230.142753\n",
              "min        19.000000\n",
              "25%        41.000000\n",
              "50%        79.000000\n",
              "75%       213.500000\n",
              "max      1352.000000\n",
              "Name: bluecars_taken_sum, dtype: float64"
            ]
          },
          "metadata": {},
          "execution_count": 147
        }
      ]
    },
    {
      "cell_type": "code",
      "source": [
        "# confirming that the dataset only contains weekend data\n",
        "new_auto['day_type'].unique()\n"
      ],
      "metadata": {
        "colab": {
          "base_uri": "https://localhost:8080/"
        },
        "id": "fGocGJrs6WMi",
        "outputId": "a098cf87-5c50-4e8f-b4da-72da4487fbe6"
      },
      "execution_count": 95,
      "outputs": [
        {
          "output_type": "execute_result",
          "data": {
            "text/plain": [
              "array(['weekend'], dtype=object)"
            ]
          },
          "metadata": {},
          "execution_count": 95
        }
      ]
    },
    {
      "cell_type": "markdown",
      "source": [
        "# Finding and dealing with outliers"
      ],
      "metadata": {
        "id": "_ZPRB6VVIwQl"
      }
    },
    {
      "cell_type": "code",
      "source": [
        "# Checking for Outliers in the Bluecars data\n",
        "boxplot = new_auto.boxplot(column=['bluecars_taken_sum', 'bluecars_returned_sum'])"
      ],
      "metadata": {
        "colab": {
          "base_uri": "https://localhost:8080/",
          "height": 267
        },
        "id": "Mt01ScqlGVxM",
        "outputId": "ec6d2189-68c7-455b-d1d2-3402a7756cd8"
      },
      "execution_count": 96,
      "outputs": [
        {
          "output_type": "display_data",
          "data": {
            "text/plain": [
              "<Figure size 432x288 with 1 Axes>"
            ],
            "image/png": "[encoded data removed]"
          },
          "metadata": {
            "needs_background": "light"
          }
        }
      ]
    },
    {
      "cell_type": "code",
      "source": [
        "#Calculating quantiles for taken bluecars\n",
        "\n",
        "blue_u  = new_auto['bluecars_taken_sum'].quantile([0.75])\n",
        "print(blue_u)\n",
        "\n",
        "blue_l  = new_auto['bluecars_taken_sum'].quantile([0.25])\n",
        "print(blue_l)\n"
      ],
      "metadata": {
        "colab": {
          "base_uri": "https://localhost:8080/"
        },
        "id": "pRb_on5QGuWf",
        "outputId": "3ace464a-4a31-4dbc-a999-be7780809393"
      },
      "execution_count": 97,
      "outputs": [
        {
          "output_type": "stream",
          "name": "stdout",
          "text": [
            "0.75    156.0\n",
            "Name: bluecars_taken_sum, dtype: float64\n",
            "0.25    25.0\n",
            "Name: bluecars_taken_sum, dtype: float64\n"
          ]
        }
      ]
    },
    {
      "cell_type": "code",
      "source": [
        "# Using the upper quantile to drop the vlues beyond that limit\n",
        "outlier_upper = new_auto[new_auto['bluecars_taken_sum'] > 77].index\n",
        "autolib.drop(outlier_upper , inplace=True)"
      ],
      "metadata": {
        "id": "hovlXfKVHU5E"
      },
      "execution_count": 98,
      "outputs": []
    },
    {
      "cell_type": "code",
      "source": [
        "# Using the lower quantile to drop the values beyond that limit\n",
        "outlier_lower = new_auto[new_auto['bluecars_taken_sum'] < 19].index\n",
        "new_auto.drop(outlier_lower , inplace=True)"
      ],
      "metadata": {
        "id": "FsICzf23HrHY"
      },
      "execution_count": 99,
      "outputs": []
    },
    {
      "cell_type": "code",
      "source": [
        "# to ignore future warnings\n",
        "import warnings\n",
        "warnings.filterwarnings('ignore')"
      ],
      "metadata": {
        "id": "1cHfn3ANLIJn"
      },
      "execution_count": 100,
      "outputs": []
    },
    {
      "cell_type": "markdown",
      "source": [
        "# Exploratory Data Analysis\n"
      ],
      "metadata": {
        "id": "Zt85c1INI_jq"
      }
    },
    {
      "cell_type": "code",
      "source": [
        "new_auto.columns"
      ],
      "metadata": {
        "colab": {
          "base_uri": "https://localhost:8080/"
        },
        "id": "iVpKnRiAKZF9",
        "outputId": "9b97480a-1e95-4afa-c14f-ce2f6b13a34f"
      },
      "execution_count": 101,
      "outputs": [
        {
          "output_type": "execute_result",
          "data": {
            "text/plain": [
              "Index(['postal_code', 'date', 'dayofweek', 'day_type', 'bluecars_taken_sum',\n",
              "       'bluecars_returned_sum', 'utilib_taken_sum', 'utilib_returned_sum',\n",
              "       'utilib_14_taken_sum', 'utilib_14_returned_sum', 'slots_freed_sum',\n",
              "       'slots_taken_sum'],\n",
              "      dtype='object')"
            ]
          },
          "metadata": {},
          "execution_count": 101
        }
      ]
    },
    {
      "cell_type": "code",
      "source": [
        "# making day of week column a category dt\n",
        "new_auto['dayofweek'] = new_auto['dayofweek'].astype('category')"
      ],
      "metadata": {
        "id": "tVxw1OhNI5RK"
      },
      "execution_count": 102,
      "outputs": []
    },
    {
      "cell_type": "markdown",
      "source": [
        "# a) Returned Bluecars"
      ],
      "metadata": {
        "id": "nmXPxt1ZMmkQ"
      }
    },
    {
      "cell_type": "code",
      "source": [
        "#Calculate quantiles\n",
        "q_auto = new_auto[\"bluecars_returned_sum\"].quantile([0.25,0.5,0.75])\n",
        "print(q_auto)"
      ],
      "metadata": {
        "colab": {
          "base_uri": "https://localhost:8080/"
        },
        "id": "Enz_V9V3NG2e",
        "outputId": "110602c3-7ceb-45e4-c8c3-2d5badae446e"
      },
      "execution_count": 103,
      "outputs": [
        {
          "output_type": "stream",
          "name": "stdout",
          "text": [
            "0.25     40.0\n",
            "0.50     79.0\n",
            "0.75    212.5\n",
            "Name: bluecars_returned_sum, dtype: float64\n"
          ]
        }
      ]
    },
    {
      "cell_type": "code",
      "source": [
        "# Description of the Blue cars returned sum column \n",
        "new_auto['bluecars_returned_sum'].describe()"
      ],
      "metadata": {
        "colab": {
          "base_uri": "https://localhost:8080/"
        },
        "id": "oZdgLjofMXXZ",
        "outputId": "f4d8bdab-0ca9-444a-bf84-d19c29460dc8"
      },
      "execution_count": 104,
      "outputs": [
        {
          "output_type": "execute_result",
          "data": {
            "text/plain": [
              "count    3715.000000\n",
              "mean      183.509556\n",
              "std       233.071261\n",
              "min         8.000000\n",
              "25%        40.000000\n",
              "50%        79.000000\n",
              "75%       212.500000\n",
              "max      1332.000000\n",
              "Name: bluecars_returned_sum, dtype: float64"
            ]
          },
          "metadata": {},
          "execution_count": 104
        }
      ]
    },
    {
      "cell_type": "code",
      "source": [
        "# Finding the mode of the column 'BlueCars_taken_sum'\n",
        "new_auto['bluecars_returned_sum'].mode()"
      ],
      "metadata": {
        "colab": {
          "base_uri": "https://localhost:8080/"
        },
        "id": "JUvzH8EEM-fM",
        "outputId": "7a5de421-b019-4b7f-9c1a-cb2b5d2fc8af"
      },
      "execution_count": 105,
      "outputs": [
        {
          "output_type": "execute_result",
          "data": {
            "text/plain": [
              "0    25\n",
              "dtype: int64"
            ]
          },
          "metadata": {},
          "execution_count": 105
        }
      ]
    },
    {
      "cell_type": "code",
      "source": [
        "# measures of dispersion\n",
        "std = new_auto['bluecars_returned_sum'].std()\n",
        "print('standard deviation: ',std)\n",
        "skew =new_auto['bluecars_returned_sum'].skew()\n",
        "print('skew: ',skew)\n",
        "kurt = new_auto['bluecars_returned_sum'].kurtosis()\n",
        "print('kurtosis',kurt)"
      ],
      "metadata": {
        "colab": {
          "base_uri": "https://localhost:8080/"
        },
        "id": "jv-1TXnkNxjs",
        "outputId": "83c6a99c-1366-4dcd-9ef0-ac05c61464b7"
      },
      "execution_count": 106,
      "outputs": [
        {
          "output_type": "stream",
          "name": "stdout",
          "text": [
            "standard deviation:  233.07126124700503\n",
            "skew:  2.0252990510212325\n",
            "kurtosis 3.821015252821656\n"
          ]
        }
      ]
    },
    {
      "cell_type": "markdown",
      "source": [
        "# b) Taken Bluecars\n"
      ],
      "metadata": {
        "id": "SfuLjFM-Mxge"
      }
    },
    {
      "cell_type": "code",
      "source": [
        "#Calculate quantiles\n",
        "q_auto = new_auto[\"bluecars_taken_sum\"].quantile([0.25,0.5,0.75])\n",
        "print(q_auto)"
      ],
      "metadata": {
        "colab": {
          "base_uri": "https://localhost:8080/"
        },
        "id": "3aehu8MeNIyu",
        "outputId": "ba0d4d3e-bbd7-4197-bb1a-e65fbea2e01d"
      },
      "execution_count": 107,
      "outputs": [
        {
          "output_type": "stream",
          "name": "stdout",
          "text": [
            "0.25     41.0\n",
            "0.50     79.0\n",
            "0.75    213.5\n",
            "Name: bluecars_taken_sum, dtype: float64\n"
          ]
        }
      ]
    },
    {
      "cell_type": "code",
      "source": [
        "# Description of the Blue cars taken sum column \n",
        "new_auto['bluecars_taken_sum'].describe()"
      ],
      "metadata": {
        "colab": {
          "base_uri": "https://localhost:8080/"
        },
        "id": "NuQH3nT-JzSm",
        "outputId": "e2f49fa3-7e42-42df-f208-9e2ae34325cf"
      },
      "execution_count": 108,
      "outputs": [
        {
          "output_type": "execute_result",
          "data": {
            "text/plain": [
              "count    3715.000000\n",
              "mean      182.494213\n",
              "std       230.142753\n",
              "min        19.000000\n",
              "25%        41.000000\n",
              "50%        79.000000\n",
              "75%       213.500000\n",
              "max      1352.000000\n",
              "Name: bluecars_taken_sum, dtype: float64"
            ]
          },
          "metadata": {},
          "execution_count": 108
        }
      ]
    },
    {
      "cell_type": "markdown",
      "source": [
        "**Observations**\n",
        "* the mean value is greater than the median value \n",
        "* there's agreat diffeence between the 75th percentile and the maximum taken bluecars"
      ],
      "metadata": {
        "id": "8X8h7LB8LWAu"
      }
    },
    {
      "cell_type": "code",
      "source": [
        "# Finding the mode of the column 'BlueCars_taken_sum'\n",
        "new_auto['bluecars_taken_sum'].mode()"
      ],
      "metadata": {
        "colab": {
          "base_uri": "https://localhost:8080/"
        },
        "id": "JTU6CikVMAyY",
        "outputId": "9a7b4845-96f0-411c-f700-310bcfe16f46"
      },
      "execution_count": 109,
      "outputs": [
        {
          "output_type": "execute_result",
          "data": {
            "text/plain": [
              "0    20\n",
              "dtype: int64"
            ]
          },
          "metadata": {},
          "execution_count": 109
        }
      ]
    },
    {
      "cell_type": "code",
      "source": [
        "# measures of dispersion\n",
        "std = new_auto['bluecars_taken_sum'].std()\n",
        "print('standard deviation: ',std)\n",
        "skew =new_auto['bluecars_taken_sum'].skew()\n",
        "print('skew: ',skew)\n",
        "kurt = new_auto['bluecars_taken_sum'].kurtosis()\n",
        "print('kurtosis',kurt)"
      ],
      "metadata": {
        "colab": {
          "base_uri": "https://localhost:8080/"
        },
        "id": "lsrvaiFsOihj",
        "outputId": "ea996ff7-8f14-49e2-8e37-6f5b181ca09c"
      },
      "execution_count": 110,
      "outputs": [
        {
          "output_type": "stream",
          "name": "stdout",
          "text": [
            "standard deviation:  230.14275300281082\n",
            "skew:  2.0487359713036892\n",
            "kurtosis 3.986825627135519\n"
          ]
        }
      ]
    },
    {
      "cell_type": "markdown",
      "source": [
        "#Univriate Analysis"
      ],
      "metadata": {
        "id": "8fMPfyQYPKhs"
      }
    },
    {
      "cell_type": "code",
      "source": [
        "autolib.columns"
      ],
      "metadata": {
        "colab": {
          "base_uri": "https://localhost:8080/"
        },
        "id": "JdKJkhFWsvRD",
        "outputId": "6e4059ea-7827-4564-f254-fe3fb6e5cb8b"
      },
      "execution_count": 111,
      "outputs": [
        {
          "output_type": "execute_result",
          "data": {
            "text/plain": [
              "Index(['postal_code', 'date', 'n_daily_data_points', 'dayofweek', 'day_type',\n",
              "       'bluecars_taken_sum', 'bluecars_returned_sum', 'utilib_taken_sum',\n",
              "       'utilib_returned_sum', 'utilib_14_taken_sum', 'utilib_14_returned_sum',\n",
              "       'slots_freed_sum', 'slots_taken_sum'],\n",
              "      dtype='object')"
            ]
          },
          "metadata": {},
          "execution_count": 111
        }
      ]
    },
    {
      "cell_type": "code",
      "source": [
        "# finding out what percentage of the records were gathered during the wekend vs the weekdays\n",
        "plt.pie(autolib['day_type'].value_counts(normalize=True), labels =autolib['day_type'].value_counts().index,colors = ['Red', 'Green'], autopct = '%1.1f%%', shadow = True,explode=(0.2,0), startangle = 140)\n",
        "plt.axis('equal')\n",
        "plt.title('Proportion of Sunday(6) and Saturday(5) Data')\n",
        "plt.show()"
      ],
      "metadata": {
        "colab": {
          "base_uri": "https://localhost:8080/",
          "height": 264
        },
        "id": "g0kBmUHSSI6Y",
        "outputId": "71e7b783-4d7c-49bb-8ece-dd0e266c5c32"
      },
      "execution_count": 112,
      "outputs": [
        {
          "output_type": "display_data",
          "data": {
            "text/plain": [
              "<Figure size 432x288 with 1 Axes>"
            ],
            "image/png": "[encoded data removed]"
          },
          "metadata": {}
        }
      ]
    },
    {
      "cell_type": "markdown",
      "source": [
        "Most of the carsharing activities captured seem to occur during weekdays but we're more interested in weekend dynamics so we'll go ahead and work on getting more information on car sharing fequency, ratio of taking and returning and locations where activities are most"
      ],
      "metadata": {
        "id": "V5QjXanJs3nA"
      }
    },
    {
      "cell_type": "code",
      "source": [
        "# Visualising the frequency distribution of taken bluecars\n",
        "blue_tf = new_auto['bluecars_taken_sum']\n",
        "\n",
        "plt.hist(blue_tf, bins=10, histtype='bar', rwidth=0.9, color='indigo')\n",
        "plt.xlabel('Taken bluecars')\n",
        "plt.ylabel('Frequency')\n",
        "plt.title('Frequency of Bluecars taken')\n",
        "plt.show()"
      ],
      "metadata": {
        "colab": {
          "base_uri": "https://localhost:8080/",
          "height": 295
        },
        "id": "qugHwvLlPRq-",
        "outputId": "ef54a746-dca8-4137-fc8d-3922d643a14d"
      },
      "execution_count": 113,
      "outputs": [
        {
          "output_type": "display_data",
          "data": {
            "text/plain": [
              "<Figure size 432x288 with 1 Axes>"
            ],
            "image/png": "[encoded data removed]"
          },
          "metadata": {
            "needs_background": "light"
          }
        }
      ]
    },
    {
      "cell_type": "code",
      "source": [
        "new_auto.columns"
      ],
      "metadata": {
        "colab": {
          "base_uri": "https://localhost:8080/"
        },
        "id": "u8XM7939cyei",
        "outputId": "3869e5e9-f709-4240-b496-12e8bcc9ab0a"
      },
      "execution_count": 114,
      "outputs": [
        {
          "output_type": "execute_result",
          "data": {
            "text/plain": [
              "Index(['postal_code', 'date', 'dayofweek', 'day_type', 'bluecars_taken_sum',\n",
              "       'bluecars_returned_sum', 'utilib_taken_sum', 'utilib_returned_sum',\n",
              "       'utilib_14_taken_sum', 'utilib_14_returned_sum', 'slots_freed_sum',\n",
              "       'slots_taken_sum'],\n",
              "      dtype='object')"
            ]
          },
          "metadata": {},
          "execution_count": 114
        }
      ]
    },
    {
      "cell_type": "markdown",
      "source": [
        "# Bivariate Analysis"
      ],
      "metadata": {
        "id": "CfElrjfciwEn"
      }
    },
    {
      "cell_type": "code",
      "source": [
        "#  Relationship between the postal address to the blue cars taken\n",
        "ax = sns.relplot(x=\"bluecars_taken_sum\", y=\"postal_code\", hue=\"bluecars_taken_sum\", data = new_auto, palette=\"rocket\",)\n"
      ],
      "metadata": {
        "colab": {
          "base_uri": "https://localhost:8080/",
          "height": 370
        },
        "id": "eOTVw6z0l0Mj",
        "outputId": "495d7465-3546-4cae-fa2e-978c14c313f2"
      },
      "execution_count": 115,
      "outputs": [
        {
          "output_type": "display_data",
          "data": {
            "text/plain": [
              "<Figure size 469.75x360 with 1 Axes>"
            ],
            "image/png": "[encoded data removed]"
          },
          "metadata": {
            "needs_background": "light"
          }
        }
      ]
    },
    {
      "cell_type": "markdown",
      "source": [
        "\n",
        "* The postal address area around 95000 use the blue car sharing services and use most frequently as well as those around postal address 17000-17015\n"
      ],
      "metadata": {
        "id": "909IxC8rnpdq"
      }
    },
    {
      "cell_type": "code",
      "source": [
        "# Relationship between Blue car taken and blue cars returned\n",
        "sns.scatterplot(data = new_auto, x=\"bluecars_taken_sum\", y=\"bluecars_returned_sum\", hue=\"bluecars_taken_sum\")"
      ],
      "metadata": {
        "colab": {
          "base_uri": "https://localhost:8080/",
          "height": 297
        },
        "id": "AxKk8BPAm8i2",
        "outputId": "9d2b3eb9-6e48-43e9-80e9-44db245089fd"
      },
      "execution_count": 116,
      "outputs": [
        {
          "output_type": "execute_result",
          "data": {
            "text/plain": [
              "<matplotlib.axes._subplots.AxesSubplot at 0x7f219041e3d0>"
            ]
          },
          "metadata": {},
          "execution_count": 116
        },
        {
          "output_type": "display_data",
          "data": {
            "text/plain": [
              "<Figure size 432x288 with 1 Axes>"
            ],
            "image/png": "[encoded data removed]"
          },
          "metadata": {
            "needs_background": "light"
          }
        }
      ]
    },
    {
      "cell_type": "markdown",
      "source": [
        "\n",
        "* The rate of taking and returning the blue cars was more or less the same which suggests the systems put in place are working quite effectively.\n"
      ],
      "metadata": {
        "id": "gcOTL1punRHx"
      }
    },
    {
      "cell_type": "code",
      "source": [
        "ax = sns.relplot(x=\"bluecars_returned_sum\", y=\"postal_code\", hue=\"bluecars_returned_sum\", data = new_auto, palette=\"rocket\",)\n"
      ],
      "metadata": {
        "colab": {
          "base_uri": "https://localhost:8080/",
          "height": 370
        },
        "id": "jGjoZU0AnPxR",
        "outputId": "92607252-8386-48cb-d4c1-d47900b7a384"
      },
      "execution_count": 117,
      "outputs": [
        {
          "output_type": "display_data",
          "data": {
            "text/plain": [
              "<Figure size 485x360 with 1 Axes>"
            ],
            "image/png": "[encoded data removed]"
          },
          "metadata": {
            "needs_background": "light"
          }
        }
      ]
    },
    {
      "cell_type": "markdown",
      "source": [
        "* same observation goes for car return in relation to postal code address"
      ],
      "metadata": {
        "id": "c9ORyS3soL_t"
      }
    },
    {
      "cell_type": "code",
      "source": [
        "#  Analysing carsharing on weekends \n",
        "\n",
        "ax = sns.lineplot(data=new_auto, x = autolib['bluecars_returned_sum'], y = new_auto['dayofweek'] ,  palette=\"tab10\", linewidth=2.5)\n",
        "ax = sns.lineplot(data=new_auto, x = autolib['bluecars_returned_sum'], y = new_auto['dayofweek'] ,  palette=\"rocket\", linewidth=2.5)\n",
        "\n",
        "ax.set(xlabel='Carsharing', ylabel='Day(5/6)',\n",
        "       title='Carsharing on weekends')"
      ],
      "metadata": {
        "colab": {
          "base_uri": "https://localhost:8080/",
          "height": 347
        },
        "id": "PRABdDPOuvgU",
        "outputId": "a1a671a2-90f2-4d4c-85ab-79cc5fa27d53"
      },
      "execution_count": 146,
      "outputs": [
        {
          "output_type": "execute_result",
          "data": {
            "text/plain": [
              "[Text(0, 0.5, 'Day(5/6)'),\n",
              " Text(0.5, 0, 'Carsharing'),\n",
              " Text(0.5, 1.0, 'Carsharing on weekends')]"
            ]
          },
          "metadata": {},
          "execution_count": 146
        },
        {
          "output_type": "display_data",
          "data": {
            "text/plain": [
              "<Figure size 432x288 with 1 Axes>"
            ],
            "image/png": "[encoded data removed]"
          },
          "metadata": {
            "needs_background": "light"
          }
        }
      ]
    },
    {
      "cell_type": "markdown",
      "source": [
        "# Hypothesis\n",
        " \n",
        "**Null hypothesis (H0)** : The averages of bluecars taken on Saturdays is equal to the averages of bluecars hired on Sundays during the weekend \n",
        "\n",
        "**Alternate hypothersis (H1)**: Average bluecars taken on Saturdays is not equal to the averages of bluecars hired on Sundays during the weekend \n",
        "that is;\n",
        "\n",
        "H0: Sunμ = Satμ\n",
        "\n",
        "H1: Sunμ ≠ Satμ"
      ],
      "metadata": {
        "id": "WoJ35ZE8sLeW"
      }
    },
    {
      "cell_type": "markdown",
      "source": [
        "# Sampling"
      ],
      "metadata": {
        "id": "eT7x6HbZHAp2"
      }
    },
    {
      "cell_type": "code",
      "source": [
        "new_auto.reset_index(drop=True)\n"
      ],
      "metadata": {
        "colab": {
          "base_uri": "https://localhost:8080/",
          "height": 661
        },
        "id": "55AHd1v2OO0F",
        "outputId": "d1a47cbd-1a4a-4112-f262-88abde2f09ce"
      },
      "execution_count": 119,
      "outputs": [
        {
          "output_type": "execute_result",
          "data": {
            "text/plain": [
              "      postal_code       date dayofweek day_type  bluecars_taken_sum  \\\n",
              "0           75001 2018-01-06         5  weekend                 187   \n",
              "1           75001 2018-01-07         6  weekend                 180   \n",
              "2           75001 2018-01-13         5  weekend                 224   \n",
              "3           75001 2018-01-14         6  weekend                 193   \n",
              "4           75001 2018-01-20         5  weekend                 217   \n",
              "...           ...        ...       ...      ...                 ...   \n",
              "3710        95880 2018-06-02         5  weekend                  29   \n",
              "3711        95880 2018-06-03         6  weekend                  36   \n",
              "3712        95880 2018-06-10         6  weekend                  34   \n",
              "3713        95880 2018-06-16         5  weekend                  19   \n",
              "3714        95880 2018-06-17         6  weekend                  33   \n",
              "\n",
              "      bluecars_returned_sum  utilib_taken_sum  utilib_returned_sum  \\\n",
              "0                       185                 6                    6   \n",
              "1                       180                 2                    2   \n",
              "2                       223                 2                    2   \n",
              "3                       193                 2                    2   \n",
              "4                       217                 2                    2   \n",
              "...                     ...               ...                  ...   \n",
              "3710                     25                 1                    1   \n",
              "3711                     33                 1                    1   \n",
              "3712                     32                 0                    0   \n",
              "3713                     19                 0                    0   \n",
              "3714                     35                 1                    1   \n",
              "\n",
              "      utilib_14_taken_sum  utilib_14_returned_sum  slots_freed_sum  \\\n",
              "0                       7                       8               38   \n",
              "1                      10                       9               34   \n",
              "2                      15                      15               38   \n",
              "3                      12                      12               22   \n",
              "4                      25                      25               41   \n",
              "...                   ...                     ...              ...   \n",
              "3710                    2                       3                0   \n",
              "3711                    2                       2                0   \n",
              "3712                    1                       0                0   \n",
              "3713                    2                       1                0   \n",
              "3714                    0                       0                0   \n",
              "\n",
              "      slots_taken_sum  \n",
              "0                  35  \n",
              "1                  34  \n",
              "2                  38  \n",
              "3                  20  \n",
              "4                  39  \n",
              "...               ...  \n",
              "3710                0  \n",
              "3711                0  \n",
              "3712                0  \n",
              "3713                0  \n",
              "3714                0  \n",
              "\n",
              "[3715 rows x 12 columns]"
            ],
            "text/html": [
              "\n",
              "  <div id=\"df-193cd4ee-efdf-4d4c-8cf7-d1efaf3b3e8c\">\n",
              "    <div class=\"colab-df-container\">\n",
              "      <div>\n",
              "<style scoped>\n",
              "    .dataframe tbody tr th:only-of-type {\n",
              "        vertical-align: middle;\n",
              "    }\n",
              "\n",
              "    .dataframe tbody tr th {\n",
              "        vertical-align: top;\n",
              "    }\n",
              "\n",
              "    .dataframe thead th {\n",
              "        text-align: right;\n",
              "    }\n",
              "</style>\n",
              "<table border=\"1\" class=\"dataframe\">\n",
              "  <thead>\n",
              "    <tr style=\"text-align: right;\">\n",
              "      <th></th>\n",
              "      <th>postal_code</th>\n",
              "      <th>date</th>\n",
              "      <th>dayofweek</th>\n",
              "      <th>day_type</th>\n",
              "      <th>bluecars_taken_sum</th>\n",
              "      <th>bluecars_returned_sum</th>\n",
              "      <th>utilib_taken_sum</th>\n",
              "      <th>utilib_returned_sum</th>\n",
              "      <th>utilib_14_taken_sum</th>\n",
              "      <th>utilib_14_returned_sum</th>\n",
              "      <th>slots_freed_sum</th>\n",
              "      <th>slots_taken_sum</th>\n",
              "    </tr>\n",
              "  </thead>\n",
              "  <tbody>\n",
              "    <tr>\n",
              "      <th>0</th>\n",
              "      <td>75001</td>\n",
              "      <td>2018-01-06</td>\n",
              "      <td>5</td>\n",
              "      <td>weekend</td>\n",
              "      <td>187</td>\n",
              "      <td>185</td>\n",
              "      <td>6</td>\n",
              "      <td>6</td>\n",
              "      <td>7</td>\n",
              "      <td>8</td>\n",
              "      <td>38</td>\n",
              "      <td>35</td>\n",
              "    </tr>\n",
              "    <tr>\n",
              "      <th>1</th>\n",
              "      <td>75001</td>\n",
              "      <td>2018-01-07</td>\n",
              "      <td>6</td>\n",
              "      <td>weekend</td>\n",
              "      <td>180</td>\n",
              "      <td>180</td>\n",
              "      <td>2</td>\n",
              "      <td>2</td>\n",
              "      <td>10</td>\n",
              "      <td>9</td>\n",
              "      <td>34</td>\n",
              "      <td>34</td>\n",
              "    </tr>\n",
              "    <tr>\n",
              "      <th>2</th>\n",
              "      <td>75001</td>\n",
              "      <td>2018-01-13</td>\n",
              "      <td>5</td>\n",
              "      <td>weekend</td>\n",
              "      <td>224</td>\n",
              "      <td>223</td>\n",
              "      <td>2</td>\n",
              "      <td>2</td>\n",
              "      <td>15</td>\n",
              "      <td>15</td>\n",
              "      <td>38</td>\n",
              "      <td>38</td>\n",
              "    </tr>\n",
              "    <tr>\n",
              "      <th>3</th>\n",
              "      <td>75001</td>\n",
              "      <td>2018-01-14</td>\n",
              "      <td>6</td>\n",
              "      <td>weekend</td>\n",
              "      <td>193</td>\n",
              "      <td>193</td>\n",
              "      <td>2</td>\n",
              "      <td>2</td>\n",
              "      <td>12</td>\n",
              "      <td>12</td>\n",
              "      <td>22</td>\n",
              "      <td>20</td>\n",
              "    </tr>\n",
              "    <tr>\n",
              "      <th>4</th>\n",
              "      <td>75001</td>\n",
              "      <td>2018-01-20</td>\n",
              "      <td>5</td>\n",
              "      <td>weekend</td>\n",
              "      <td>217</td>\n",
              "      <td>217</td>\n",
              "      <td>2</td>\n",
              "      <td>2</td>\n",
              "      <td>25</td>\n",
              "      <td>25</td>\n",
              "      <td>41</td>\n",
              "      <td>39</td>\n",
              "    </tr>\n",
              "    <tr>\n",
              "      <th>...</th>\n",
              "      <td>...</td>\n",
              "      <td>...</td>\n",
              "      <td>...</td>\n",
              "      <td>...</td>\n",
              "      <td>...</td>\n",
              "      <td>...</td>\n",
              "      <td>...</td>\n",
              "      <td>...</td>\n",
              "      <td>...</td>\n",
              "      <td>...</td>\n",
              "      <td>...</td>\n",
              "      <td>...</td>\n",
              "    </tr>\n",
              "    <tr>\n",
              "      <th>3710</th>\n",
              "      <td>95880</td>\n",
              "      <td>2018-06-02</td>\n",
              "      <td>5</td>\n",
              "      <td>weekend</td>\n",
              "      <td>29</td>\n",
              "      <td>25</td>\n",
              "      <td>1</td>\n",
              "      <td>1</td>\n",
              "      <td>2</td>\n",
              "      <td>3</td>\n",
              "      <td>0</td>\n",
              "      <td>0</td>\n",
              "    </tr>\n",
              "    <tr>\n",
              "      <th>3711</th>\n",
              "      <td>95880</td>\n",
              "      <td>2018-06-03</td>\n",
              "      <td>6</td>\n",
              "      <td>weekend</td>\n",
              "      <td>36</td>\n",
              "      <td>33</td>\n",
              "      <td>1</td>\n",
              "      <td>1</td>\n",
              "      <td>2</td>\n",
              "      <td>2</td>\n",
              "      <td>0</td>\n",
              "      <td>0</td>\n",
              "    </tr>\n",
              "    <tr>\n",
              "      <th>3712</th>\n",
              "      <td>95880</td>\n",
              "      <td>2018-06-10</td>\n",
              "      <td>6</td>\n",
              "      <td>weekend</td>\n",
              "      <td>34</td>\n",
              "      <td>32</td>\n",
              "      <td>0</td>\n",
              "      <td>0</td>\n",
              "      <td>1</td>\n",
              "      <td>0</td>\n",
              "      <td>0</td>\n",
              "      <td>0</td>\n",
              "    </tr>\n",
              "    <tr>\n",
              "      <th>3713</th>\n",
              "      <td>95880</td>\n",
              "      <td>2018-06-16</td>\n",
              "      <td>5</td>\n",
              "      <td>weekend</td>\n",
              "      <td>19</td>\n",
              "      <td>19</td>\n",
              "      <td>0</td>\n",
              "      <td>0</td>\n",
              "      <td>2</td>\n",
              "      <td>1</td>\n",
              "      <td>0</td>\n",
              "      <td>0</td>\n",
              "    </tr>\n",
              "    <tr>\n",
              "      <th>3714</th>\n",
              "      <td>95880</td>\n",
              "      <td>2018-06-17</td>\n",
              "      <td>6</td>\n",
              "      <td>weekend</td>\n",
              "      <td>33</td>\n",
              "      <td>35</td>\n",
              "      <td>1</td>\n",
              "      <td>1</td>\n",
              "      <td>0</td>\n",
              "      <td>0</td>\n",
              "      <td>0</td>\n",
              "      <td>0</td>\n",
              "    </tr>\n",
              "  </tbody>\n",
              "</table>\n",
              "<p>3715 rows × 12 columns</p>\n",
              "</div>\n",
              "      <button class=\"colab-df-convert\" onclick=\"convertToInteractive('df-193cd4ee-efdf-4d4c-8cf7-d1efaf3b3e8c')\"\n",
              "              title=\"Convert this dataframe to an interactive table.\"\n",
              "              style=\"display:none;\">\n",
              "        \n",
              "  <svg xmlns=\"http://www.w3.org/2000/svg\" height=\"24px\"viewBox=\"0 0 24 24\"\n",
              "       width=\"24px\">\n",
              "    <path d=\"M0 0h24v24H0V0z\" fill=\"none\"/>\n",
              "    <path d=\"M18.56 5.44l.94 2.06.94-2.06 2.06-.94-2.06-.94-.94-2.06-.94 2.06-2.06.94zm-11 1L8.5 8.5l.94-2.06 2.06-.94-2.06-.94L8.5 2.5l-.94 2.06-2.06.94zm10 10l.94 2.06.94-2.06 2.06-.94-2.06-.94-.94-2.06-.94 2.06-2.06.94z\"/><path d=\"M17.41 7.96l-1.37-1.37c-.4-.4-.92-.59-1.43-.59-.52 0-1.04.2-1.43.59L10.3 9.45l-7.72 7.72c-.78.78-.78 2.05 0 2.83L4 21.41c.39.39.9.59 1.41.59.51 0 1.02-.2 1.41-.59l7.78-7.78 2.81-2.81c.8-.78.8-2.07 0-2.86zM5.41 20L4 18.59l7.72-7.72 1.47 1.35L5.41 20z\"/>\n",
              "  </svg>\n",
              "      </button>\n",
              "      \n",
              "  <style>\n",
              "    .colab-df-container {\n",
              "      display:flex;\n",
              "      flex-wrap:wrap;\n",
              "      gap: 12px;\n",
              "    }\n",
              "\n",
              "    .colab-df-convert {\n",
              "      background-color: #E8F0FE;\n",
              "      border: none;\n",
              "      border-radius: 50%;\n",
              "      cursor: pointer;\n",
              "      display: none;\n",
              "      fill: #1967D2;\n",
              "      height: 32px;\n",
              "      padding: 0 0 0 0;\n",
              "      width: 32px;\n",
              "    }\n",
              "\n",
              "    .colab-df-convert:hover {\n",
              "      background-color: #E2EBFA;\n",
              "      box-shadow: 0px 1px 2px rgba(60, 64, 67, 0.3), 0px 1px 3px 1px rgba(60, 64, 67, 0.15);\n",
              "      fill: #174EA6;\n",
              "    }\n",
              "\n",
              "    [theme=dark] .colab-df-convert {\n",
              "      background-color: #3B4455;\n",
              "      fill: #D2E3FC;\n",
              "    }\n",
              "\n",
              "    [theme=dark] .colab-df-convert:hover {\n",
              "      background-color: #434B5C;\n",
              "      box-shadow: 0px 1px 3px 1px rgba(0, 0, 0, 0.15);\n",
              "      filter: drop-shadow(0px 1px 2px rgba(0, 0, 0, 0.3));\n",
              "      fill: #FFFFFF;\n",
              "    }\n",
              "  </style>\n",
              "\n",
              "      <script>\n",
              "        const buttonEl =\n",
              "          document.querySelector('#df-193cd4ee-efdf-4d4c-8cf7-d1efaf3b3e8c button.colab-df-convert');\n",
              "        buttonEl.style.display =\n",
              "          google.colab.kernel.accessAllowed ? 'block' : 'none';\n",
              "\n",
              "        async function convertToInteractive(key) {\n",
              "          const element = document.querySelector('#df-193cd4ee-efdf-4d4c-8cf7-d1efaf3b3e8c');\n",
              "          const dataTable =\n",
              "            await google.colab.kernel.invokeFunction('convertToInteractive',\n",
              "                                                     [key], {});\n",
              "          if (!dataTable) return;\n",
              "\n",
              "          const docLinkHtml = 'Like what you see? Visit the ' +\n",
              "            '<a target=\"_blank\" href=https://colab.research.google.com/notebooks/data_table.ipynb>data table notebook</a>'\n",
              "            + ' to learn more about interactive tables.';\n",
              "          element.innerHTML = '';\n",
              "          dataTable['output_type'] = 'display_data';\n",
              "          await google.colab.output.renderOutput(dataTable, element);\n",
              "          const docLink = document.createElement('div');\n",
              "          docLink.innerHTML = docLinkHtml;\n",
              "          element.appendChild(docLink);\n",
              "        }\n",
              "      </script>\n",
              "    </div>\n",
              "  </div>\n",
              "  "
            ]
          },
          "metadata": {},
          "execution_count": 119
        }
      ]
    },
    {
      "cell_type": "code",
      "source": [
        "# creating a dataframe with sunday records only\n",
        "sunday = new_auto[(new_auto['dayofweek'] == 6)]"
      ],
      "metadata": {
        "id": "xCmKhnRPHkN7"
      },
      "execution_count": 120,
      "outputs": []
    },
    {
      "cell_type": "code",
      "source": [
        "sunday.head(3)"
      ],
      "metadata": {
        "colab": {
          "base_uri": "https://localhost:8080/",
          "height": 259
        },
        "id": "8LggGXMxQgFe",
        "outputId": "0481dcdc-0bc9-4037-80c9-f2200355dff4"
      },
      "execution_count": 121,
      "outputs": [
        {
          "output_type": "execute_result",
          "data": {
            "text/plain": [
              "    postal_code       date dayofweek day_type  bluecars_taken_sum  \\\n",
              "6         75001 2018-01-07         6  weekend                 180   \n",
              "13        75001 2018-01-14         6  weekend                 193   \n",
              "20        75001 2018-01-21         6  weekend                 143   \n",
              "\n",
              "    bluecars_returned_sum  utilib_taken_sum  utilib_returned_sum  \\\n",
              "6                     180                 2                    2   \n",
              "13                    193                 2                    2   \n",
              "20                    150                 4                    4   \n",
              "\n",
              "    utilib_14_taken_sum  utilib_14_returned_sum  slots_freed_sum  \\\n",
              "6                    10                       9               34   \n",
              "13                   12                      12               22   \n",
              "20                    8                       8               23   \n",
              "\n",
              "    slots_taken_sum  \n",
              "6                34  \n",
              "13               20  \n",
              "20               25  "
            ],
            "text/html": [
              "\n",
              "  <div id=\"df-12a30560-ecc3-4eac-98f8-979a8569a44b\">\n",
              "    <div class=\"colab-df-container\">\n",
              "      <div>\n",
              "<style scoped>\n",
              "    .dataframe tbody tr th:only-of-type {\n",
              "        vertical-align: middle;\n",
              "    }\n",
              "\n",
              "    .dataframe tbody tr th {\n",
              "        vertical-align: top;\n",
              "    }\n",
              "\n",
              "    .dataframe thead th {\n",
              "        text-align: right;\n",
              "    }\n",
              "</style>\n",
              "<table border=\"1\" class=\"dataframe\">\n",
              "  <thead>\n",
              "    <tr style=\"text-align: right;\">\n",
              "      <th></th>\n",
              "      <th>postal_code</th>\n",
              "      <th>date</th>\n",
              "      <th>dayofweek</th>\n",
              "      <th>day_type</th>\n",
              "      <th>bluecars_taken_sum</th>\n",
              "      <th>bluecars_returned_sum</th>\n",
              "      <th>utilib_taken_sum</th>\n",
              "      <th>utilib_returned_sum</th>\n",
              "      <th>utilib_14_taken_sum</th>\n",
              "      <th>utilib_14_returned_sum</th>\n",
              "      <th>slots_freed_sum</th>\n",
              "      <th>slots_taken_sum</th>\n",
              "    </tr>\n",
              "  </thead>\n",
              "  <tbody>\n",
              "    <tr>\n",
              "      <th>6</th>\n",
              "      <td>75001</td>\n",
              "      <td>2018-01-07</td>\n",
              "      <td>6</td>\n",
              "      <td>weekend</td>\n",
              "      <td>180</td>\n",
              "      <td>180</td>\n",
              "      <td>2</td>\n",
              "      <td>2</td>\n",
              "      <td>10</td>\n",
              "      <td>9</td>\n",
              "      <td>34</td>\n",
              "      <td>34</td>\n",
              "    </tr>\n",
              "    <tr>\n",
              "      <th>13</th>\n",
              "      <td>75001</td>\n",
              "      <td>2018-01-14</td>\n",
              "      <td>6</td>\n",
              "      <td>weekend</td>\n",
              "      <td>193</td>\n",
              "      <td>193</td>\n",
              "      <td>2</td>\n",
              "      <td>2</td>\n",
              "      <td>12</td>\n",
              "      <td>12</td>\n",
              "      <td>22</td>\n",
              "      <td>20</td>\n",
              "    </tr>\n",
              "    <tr>\n",
              "      <th>20</th>\n",
              "      <td>75001</td>\n",
              "      <td>2018-01-21</td>\n",
              "      <td>6</td>\n",
              "      <td>weekend</td>\n",
              "      <td>143</td>\n",
              "      <td>150</td>\n",
              "      <td>4</td>\n",
              "      <td>4</td>\n",
              "      <td>8</td>\n",
              "      <td>8</td>\n",
              "      <td>23</td>\n",
              "      <td>25</td>\n",
              "    </tr>\n",
              "  </tbody>\n",
              "</table>\n",
              "</div>\n",
              "      <button class=\"colab-df-convert\" onclick=\"convertToInteractive('df-12a30560-ecc3-4eac-98f8-979a8569a44b')\"\n",
              "              title=\"Convert this dataframe to an interactive table.\"\n",
              "              style=\"display:none;\">\n",
              "        \n",
              "  <svg xmlns=\"http://www.w3.org/2000/svg\" height=\"24px\"viewBox=\"0 0 24 24\"\n",
              "       width=\"24px\">\n",
              "    <path d=\"M0 0h24v24H0V0z\" fill=\"none\"/>\n",
              "    <path d=\"M18.56 5.44l.94 2.06.94-2.06 2.06-.94-2.06-.94-.94-2.06-.94 2.06-2.06.94zm-11 1L8.5 8.5l.94-2.06 2.06-.94-2.06-.94L8.5 2.5l-.94 2.06-2.06.94zm10 10l.94 2.06.94-2.06 2.06-.94-2.06-.94-.94-2.06-.94 2.06-2.06.94z\"/><path d=\"M17.41 7.96l-1.37-1.37c-.4-.4-.92-.59-1.43-.59-.52 0-1.04.2-1.43.59L10.3 9.45l-7.72 7.72c-.78.78-.78 2.05 0 2.83L4 21.41c.39.39.9.59 1.41.59.51 0 1.02-.2 1.41-.59l7.78-7.78 2.81-2.81c.8-.78.8-2.07 0-2.86zM5.41 20L4 18.59l7.72-7.72 1.47 1.35L5.41 20z\"/>\n",
              "  </svg>\n",
              "      </button>\n",
              "      \n",
              "  <style>\n",
              "    .colab-df-container {\n",
              "      display:flex;\n",
              "      flex-wrap:wrap;\n",
              "      gap: 12px;\n",
              "    }\n",
              "\n",
              "    .colab-df-convert {\n",
              "      background-color: #E8F0FE;\n",
              "      border: none;\n",
              "      border-radius: 50%;\n",
              "      cursor: pointer;\n",
              "      display: none;\n",
              "      fill: #1967D2;\n",
              "      height: 32px;\n",
              "      padding: 0 0 0 0;\n",
              "      width: 32px;\n",
              "    }\n",
              "\n",
              "    .colab-df-convert:hover {\n",
              "      background-color: #E2EBFA;\n",
              "      box-shadow: 0px 1px 2px rgba(60, 64, 67, 0.3), 0px 1px 3px 1px rgba(60, 64, 67, 0.15);\n",
              "      fill: #174EA6;\n",
              "    }\n",
              "\n",
              "    [theme=dark] .colab-df-convert {\n",
              "      background-color: #3B4455;\n",
              "      fill: #D2E3FC;\n",
              "    }\n",
              "\n",
              "    [theme=dark] .colab-df-convert:hover {\n",
              "      background-color: #434B5C;\n",
              "      box-shadow: 0px 1px 3px 1px rgba(0, 0, 0, 0.15);\n",
              "      filter: drop-shadow(0px 1px 2px rgba(0, 0, 0, 0.3));\n",
              "      fill: #FFFFFF;\n",
              "    }\n",
              "  </style>\n",
              "\n",
              "      <script>\n",
              "        const buttonEl =\n",
              "          document.querySelector('#df-12a30560-ecc3-4eac-98f8-979a8569a44b button.colab-df-convert');\n",
              "        buttonEl.style.display =\n",
              "          google.colab.kernel.accessAllowed ? 'block' : 'none';\n",
              "\n",
              "        async function convertToInteractive(key) {\n",
              "          const element = document.querySelector('#df-12a30560-ecc3-4eac-98f8-979a8569a44b');\n",
              "          const dataTable =\n",
              "            await google.colab.kernel.invokeFunction('convertToInteractive',\n",
              "                                                     [key], {});\n",
              "          if (!dataTable) return;\n",
              "\n",
              "          const docLinkHtml = 'Like what you see? Visit the ' +\n",
              "            '<a target=\"_blank\" href=https://colab.research.google.com/notebooks/data_table.ipynb>data table notebook</a>'\n",
              "            + ' to learn more about interactive tables.';\n",
              "          element.innerHTML = '';\n",
              "          dataTable['output_type'] = 'display_data';\n",
              "          await google.colab.output.renderOutput(dataTable, element);\n",
              "          const docLink = document.createElement('div');\n",
              "          docLink.innerHTML = docLinkHtml;\n",
              "          element.appendChild(docLink);\n",
              "        }\n",
              "      </script>\n",
              "    </div>\n",
              "  </div>\n",
              "  "
            ]
          },
          "metadata": {},
          "execution_count": 121
        }
      ]
    },
    {
      "cell_type": "code",
      "source": [
        "sunblue = sunday['bluecars_taken_sum']\n",
        "sunblue.head(3)"
      ],
      "metadata": {
        "colab": {
          "base_uri": "https://localhost:8080/"
        },
        "id": "LKyr4X_wWJFj",
        "outputId": "3491f68e-62fb-489b-887b-25679dc4506c"
      },
      "execution_count": 122,
      "outputs": [
        {
          "output_type": "execute_result",
          "data": {
            "text/plain": [
              "6     180\n",
              "13    193\n",
              "20    143\n",
              "Name: bluecars_taken_sum, dtype: int64"
            ]
          },
          "metadata": {},
          "execution_count": 122
        }
      ]
    },
    {
      "cell_type": "code",
      "source": [
        "# creating a dataframe with saturday records only\n",
        "saturday = new_auto[(new_auto['dayofweek'] == 5)]\n",
        "saturday.head(3)"
      ],
      "metadata": {
        "colab": {
          "base_uri": "https://localhost:8080/",
          "height": 259
        },
        "id": "m7ifplqvQlYE",
        "outputId": "c5d1605e-03e7-4e64-98fd-22a5af2b5ded"
      },
      "execution_count": 123,
      "outputs": [
        {
          "output_type": "execute_result",
          "data": {
            "text/plain": [
              "    postal_code       date dayofweek day_type  bluecars_taken_sum  \\\n",
              "5         75001 2018-01-06         5  weekend                 187   \n",
              "12        75001 2018-01-13         5  weekend                 224   \n",
              "19        75001 2018-01-20         5  weekend                 217   \n",
              "\n",
              "    bluecars_returned_sum  utilib_taken_sum  utilib_returned_sum  \\\n",
              "5                     185                 6                    6   \n",
              "12                    223                 2                    2   \n",
              "19                    217                 2                    2   \n",
              "\n",
              "    utilib_14_taken_sum  utilib_14_returned_sum  slots_freed_sum  \\\n",
              "5                     7                       8               38   \n",
              "12                   15                      15               38   \n",
              "19                   25                      25               41   \n",
              "\n",
              "    slots_taken_sum  \n",
              "5                35  \n",
              "12               38  \n",
              "19               39  "
            ],
            "text/html": [
              "\n",
              "  <div id=\"df-8a9e07cf-92b0-450f-882a-cd69b66638fd\">\n",
              "    <div class=\"colab-df-container\">\n",
              "      <div>\n",
              "<style scoped>\n",
              "    .dataframe tbody tr th:only-of-type {\n",
              "        vertical-align: middle;\n",
              "    }\n",
              "\n",
              "    .dataframe tbody tr th {\n",
              "        vertical-align: top;\n",
              "    }\n",
              "\n",
              "    .dataframe thead th {\n",
              "        text-align: right;\n",
              "    }\n",
              "</style>\n",
              "<table border=\"1\" class=\"dataframe\">\n",
              "  <thead>\n",
              "    <tr style=\"text-align: right;\">\n",
              "      <th></th>\n",
              "      <th>postal_code</th>\n",
              "      <th>date</th>\n",
              "      <th>dayofweek</th>\n",
              "      <th>day_type</th>\n",
              "      <th>bluecars_taken_sum</th>\n",
              "      <th>bluecars_returned_sum</th>\n",
              "      <th>utilib_taken_sum</th>\n",
              "      <th>utilib_returned_sum</th>\n",
              "      <th>utilib_14_taken_sum</th>\n",
              "      <th>utilib_14_returned_sum</th>\n",
              "      <th>slots_freed_sum</th>\n",
              "      <th>slots_taken_sum</th>\n",
              "    </tr>\n",
              "  </thead>\n",
              "  <tbody>\n",
              "    <tr>\n",
              "      <th>5</th>\n",
              "      <td>75001</td>\n",
              "      <td>2018-01-06</td>\n",
              "      <td>5</td>\n",
              "      <td>weekend</td>\n",
              "      <td>187</td>\n",
              "      <td>185</td>\n",
              "      <td>6</td>\n",
              "      <td>6</td>\n",
              "      <td>7</td>\n",
              "      <td>8</td>\n",
              "      <td>38</td>\n",
              "      <td>35</td>\n",
              "    </tr>\n",
              "    <tr>\n",
              "      <th>12</th>\n",
              "      <td>75001</td>\n",
              "      <td>2018-01-13</td>\n",
              "      <td>5</td>\n",
              "      <td>weekend</td>\n",
              "      <td>224</td>\n",
              "      <td>223</td>\n",
              "      <td>2</td>\n",
              "      <td>2</td>\n",
              "      <td>15</td>\n",
              "      <td>15</td>\n",
              "      <td>38</td>\n",
              "      <td>38</td>\n",
              "    </tr>\n",
              "    <tr>\n",
              "      <th>19</th>\n",
              "      <td>75001</td>\n",
              "      <td>2018-01-20</td>\n",
              "      <td>5</td>\n",
              "      <td>weekend</td>\n",
              "      <td>217</td>\n",
              "      <td>217</td>\n",
              "      <td>2</td>\n",
              "      <td>2</td>\n",
              "      <td>25</td>\n",
              "      <td>25</td>\n",
              "      <td>41</td>\n",
              "      <td>39</td>\n",
              "    </tr>\n",
              "  </tbody>\n",
              "</table>\n",
              "</div>\n",
              "      <button class=\"colab-df-convert\" onclick=\"convertToInteractive('df-8a9e07cf-92b0-450f-882a-cd69b66638fd')\"\n",
              "              title=\"Convert this dataframe to an interactive table.\"\n",
              "              style=\"display:none;\">\n",
              "        \n",
              "  <svg xmlns=\"http://www.w3.org/2000/svg\" height=\"24px\"viewBox=\"0 0 24 24\"\n",
              "       width=\"24px\">\n",
              "    <path d=\"M0 0h24v24H0V0z\" fill=\"none\"/>\n",
              "    <path d=\"M18.56 5.44l.94 2.06.94-2.06 2.06-.94-2.06-.94-.94-2.06-.94 2.06-2.06.94zm-11 1L8.5 8.5l.94-2.06 2.06-.94-2.06-.94L8.5 2.5l-.94 2.06-2.06.94zm10 10l.94 2.06.94-2.06 2.06-.94-2.06-.94-.94-2.06-.94 2.06-2.06.94z\"/><path d=\"M17.41 7.96l-1.37-1.37c-.4-.4-.92-.59-1.43-.59-.52 0-1.04.2-1.43.59L10.3 9.45l-7.72 7.72c-.78.78-.78 2.05 0 2.83L4 21.41c.39.39.9.59 1.41.59.51 0 1.02-.2 1.41-.59l7.78-7.78 2.81-2.81c.8-.78.8-2.07 0-2.86zM5.41 20L4 18.59l7.72-7.72 1.47 1.35L5.41 20z\"/>\n",
              "  </svg>\n",
              "      </button>\n",
              "      \n",
              "  <style>\n",
              "    .colab-df-container {\n",
              "      display:flex;\n",
              "      flex-wrap:wrap;\n",
              "      gap: 12px;\n",
              "    }\n",
              "\n",
              "    .colab-df-convert {\n",
              "      background-color: #E8F0FE;\n",
              "      border: none;\n",
              "      border-radius: 50%;\n",
              "      cursor: pointer;\n",
              "      display: none;\n",
              "      fill: #1967D2;\n",
              "      height: 32px;\n",
              "      padding: 0 0 0 0;\n",
              "      width: 32px;\n",
              "    }\n",
              "\n",
              "    .colab-df-convert:hover {\n",
              "      background-color: #E2EBFA;\n",
              "      box-shadow: 0px 1px 2px rgba(60, 64, 67, 0.3), 0px 1px 3px 1px rgba(60, 64, 67, 0.15);\n",
              "      fill: #174EA6;\n",
              "    }\n",
              "\n",
              "    [theme=dark] .colab-df-convert {\n",
              "      background-color: #3B4455;\n",
              "      fill: #D2E3FC;\n",
              "    }\n",
              "\n",
              "    [theme=dark] .colab-df-convert:hover {\n",
              "      background-color: #434B5C;\n",
              "      box-shadow: 0px 1px 3px 1px rgba(0, 0, 0, 0.15);\n",
              "      filter: drop-shadow(0px 1px 2px rgba(0, 0, 0, 0.3));\n",
              "      fill: #FFFFFF;\n",
              "    }\n",
              "  </style>\n",
              "\n",
              "      <script>\n",
              "        const buttonEl =\n",
              "          document.querySelector('#df-8a9e07cf-92b0-450f-882a-cd69b66638fd button.colab-df-convert');\n",
              "        buttonEl.style.display =\n",
              "          google.colab.kernel.accessAllowed ? 'block' : 'none';\n",
              "\n",
              "        async function convertToInteractive(key) {\n",
              "          const element = document.querySelector('#df-8a9e07cf-92b0-450f-882a-cd69b66638fd');\n",
              "          const dataTable =\n",
              "            await google.colab.kernel.invokeFunction('convertToInteractive',\n",
              "                                                     [key], {});\n",
              "          if (!dataTable) return;\n",
              "\n",
              "          const docLinkHtml = 'Like what you see? Visit the ' +\n",
              "            '<a target=\"_blank\" href=https://colab.research.google.com/notebooks/data_table.ipynb>data table notebook</a>'\n",
              "            + ' to learn more about interactive tables.';\n",
              "          element.innerHTML = '';\n",
              "          dataTable['output_type'] = 'display_data';\n",
              "          await google.colab.output.renderOutput(dataTable, element);\n",
              "          const docLink = document.createElement('div');\n",
              "          docLink.innerHTML = docLinkHtml;\n",
              "          element.appendChild(docLink);\n",
              "        }\n",
              "      </script>\n",
              "    </div>\n",
              "  </div>\n",
              "  "
            ]
          },
          "metadata": {},
          "execution_count": 123
        }
      ]
    },
    {
      "cell_type": "code",
      "source": [
        "satblue = saturday['bluecars_taken_sum']\n",
        "satblue.head(3)"
      ],
      "metadata": {
        "colab": {
          "base_uri": "https://localhost:8080/"
        },
        "id": "inIatp6qWhrA",
        "outputId": "fc0664c4-2116-478b-e811-0da7049d8133"
      },
      "execution_count": 124,
      "outputs": [
        {
          "output_type": "execute_result",
          "data": {
            "text/plain": [
              "5     187\n",
              "12    224\n",
              "19    217\n",
              "Name: bluecars_taken_sum, dtype: int64"
            ]
          },
          "metadata": {},
          "execution_count": 124
        }
      ]
    },
    {
      "cell_type": "code",
      "source": [
        "# sampling our saturday dataset\n",
        "satsam =satblue.sample(n=50,replace=\"False\")\n",
        "satsam.shape"
      ],
      "metadata": {
        "colab": {
          "base_uri": "https://localhost:8080/"
        },
        "id": "4LjsT0v9yMio",
        "outputId": "ade8e50e-65ed-43d0-aa20-8aa0ba503481"
      },
      "execution_count": 125,
      "outputs": [
        {
          "output_type": "execute_result",
          "data": {
            "text/plain": [
              "(50,)"
            ]
          },
          "metadata": {},
          "execution_count": 125
        }
      ]
    },
    {
      "cell_type": "code",
      "source": [
        "# sampling our sunday dataset\n",
        "sunsam =sunblue.sample(n=50,replace=\"False\")\n",
        "sunsam.shape"
      ],
      "metadata": {
        "colab": {
          "base_uri": "https://localhost:8080/"
        },
        "id": "w3DtrVnTRal2",
        "outputId": "18aa7bfb-3d22-4409-c39e-327f9f87d037"
      },
      "execution_count": 126,
      "outputs": [
        {
          "output_type": "execute_result",
          "data": {
            "text/plain": [
              "(50,)"
            ]
          },
          "metadata": {},
          "execution_count": 126
        }
      ]
    },
    {
      "cell_type": "code",
      "source": [
        "# checking the means of our two samples\n",
        "u1= np.mean(satsam)\n",
        "u2= np.mean(sunsam)\n",
        "dif = abs(u1-u2)\n",
        "\n",
        "print(u1,u2,dif)"
      ],
      "metadata": {
        "colab": {
          "base_uri": "https://localhost:8080/"
        },
        "id": "OHNUZAEYZr1K",
        "outputId": "9fe5b025-969e-4dcf-90a1-2eb4116542c6"
      },
      "execution_count": 148,
      "outputs": [
        {
          "output_type": "stream",
          "name": "stdout",
          "text": [
            "167.56 175.46 7.900000000000006\n"
          ]
        }
      ]
    },
    {
      "cell_type": "markdown",
      "source": [
        "* Quite a huge gap"
      ],
      "metadata": {
        "id": "upofujkBbzlA"
      }
    },
    {
      "cell_type": "code",
      "source": [
        "from scipy.stats import shapiro \n",
        "# testing for normality\n",
        "stat, p = shapiro(sunsam)\n",
        "print('Statistics=%.3f, p=%.3f' % (stat, p))\n",
        "\n",
        "# interpreting\n",
        "alpha = 0.05\n",
        "if p > alpha:\n",
        "\tprint(\"Sunday sample is normally distributed\")\n",
        "else:\n",
        "\tprint(\"Sunday sample isn't normally distributed\")"
      ],
      "metadata": {
        "colab": {
          "base_uri": "https://localhost:8080/"
        },
        "id": "O5JgkAETaSay",
        "outputId": "37763f4a-e6d9-47b5-c965-23f908cb0098"
      },
      "execution_count": 135,
      "outputs": [
        {
          "output_type": "stream",
          "name": "stdout",
          "text": [
            "Statistics=0.721, p=0.000\n",
            "Sunday sample isn't normally distributed\n"
          ]
        }
      ]
    },
    {
      "cell_type": "code",
      "source": [
        "stat, p = shapiro(satsam)\n",
        "print('Statistics=%.3f, p=%.3f' % (stat, p))\n",
        "\n",
        "# interpreting\n",
        "alpha = 0.05\n",
        "if p > alpha:\n",
        "\tprint(\"Saturday sample is normally distributed\")\n",
        "else:\n",
        "\tprint(\"Saturday sample isn't normally distributed\")\n",
        " "
      ],
      "metadata": {
        "colab": {
          "base_uri": "https://localhost:8080/"
        },
        "id": "Noa1kDMJas0b",
        "outputId": "bb816fdf-d6e4-40a3-f11c-018c3cfc2076"
      },
      "execution_count": 134,
      "outputs": [
        {
          "output_type": "stream",
          "name": "stdout",
          "text": [
            "Statistics=0.616, p=0.000\n",
            "Saturday sample isn't normally distributed\n"
          ]
        }
      ]
    },
    {
      "cell_type": "code",
      "source": [
        "skew1 =satsam.skew()\n",
        "skew2 =sunsam.skew()\n",
        "print('Saturday skew: ',skew1,'|','Sunday skew: ',skew2)"
      ],
      "metadata": {
        "colab": {
          "base_uri": "https://localhost:8080/"
        },
        "id": "VRh_-jubcaR2",
        "outputId": "dc347f29-0f91-4d29-bd16-08b5e7d6252b"
      },
      "execution_count": 143,
      "outputs": [
        {
          "output_type": "stream",
          "name": "stdout",
          "text": [
            "Saturday skew:  2.7479203520692916 | Sunday skew:  2.22805068236492\n"
          ]
        }
      ]
    },
    {
      "cell_type": "markdown",
      "source": [
        "* both samples are not normally distriuted and are skewed to the right"
      ],
      "metadata": {
        "id": "tSRKIvtkb9Z2"
      }
    },
    {
      "cell_type": "markdown",
      "source": [
        "# Testing\n",
        "\n",
        "* We'll use wilcoxon signed rank test since it doesn't require data to follow any parametric procedures."
      ],
      "metadata": {
        "id": "hYGJ1BpMHFSt"
      }
    },
    {
      "cell_type": "code",
      "source": [
        "# importing the wilcoxon wilcoxon signed rank test\n",
        "from scipy.stats import wilcoxon\n",
        "\n"
      ],
      "metadata": {
        "id": "hKqQazN3GvT6"
      },
      "execution_count": 127,
      "outputs": []
    },
    {
      "cell_type": "code",
      "source": [
        "# comparing the samples\n",
        "stat, p = wilcoxon(sunsam, satsam)\n",
        "print('Statistics=%.3f, p=%.3f' % (stat, p))"
      ],
      "metadata": {
        "colab": {
          "base_uri": "https://localhost:8080/"
        },
        "id": "mng-mvi5R6Gi",
        "outputId": "e1e648cd-775d-4c9e-ade3-c7466379418e"
      },
      "execution_count": 129,
      "outputs": [
        {
          "output_type": "stream",
          "name": "stdout",
          "text": [
            "Statistics=575.000, p=0.546\n"
          ]
        }
      ]
    },
    {
      "cell_type": "markdown",
      "source": [
        "**Conclusion**\n",
        "* our level of significance(alpha) is at 5% so alpha is 0.05 \n",
        "* p in this case stands at 0.546 which is greater than our alpha. \n",
        "* This means we fail to reject the null hypothesis.\n",
        "\n",
        "If the result were less than 0.05 then we would reject the null hypothesis and accept the fact that the mean of bluecars taken on Saturdays is not equal to the average of bluecars taken on Sundays during the weekend.\n"
      ],
      "metadata": {
        "id": "1CSzUrMqYowm"
      }
    }
  ]
}